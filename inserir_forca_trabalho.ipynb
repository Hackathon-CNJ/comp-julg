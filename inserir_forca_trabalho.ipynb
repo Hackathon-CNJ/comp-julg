{
 "cells": [
  {
   "cell_type": "code",
   "execution_count": 1,
   "metadata": {},
   "outputs": [
    {
     "name": "stderr",
     "output_type": "stream",
     "text": [
      "/home/johni/.pyenv/versions/3.7.4/envs/iara-ws-cnmp/lib/python3.7/site-packages/pandas/compat/__init__.py:117: UserWarning: Could not import the lzma module. Your installed Python is incomplete. Attempting to use lzma compression will result in a RuntimeError.\n",
      "  warnings.warn(msg)\n"
     ]
    }
   ],
   "source": [
    "import pandas as pd\n",
    "\n",
    "import numpy as np\n",
    "\n",
    "import pymongo\n",
    "\n",
    "import stringcase\n",
    "\n",
    "from slugify import slugify"
   ]
  },
  {
   "cell_type": "code",
   "execution_count": 2,
   "metadata": {},
   "outputs": [],
   "source": [
    "MONGODB_URL = \"mongodb://35.237.232.73:27017/\"\n",
    "\n",
    "client = pymongo.MongoClient(MONGODB_URL)"
   ]
  },
  {
   "cell_type": "code",
   "execution_count": null,
   "metadata": {},
   "outputs": [],
   "source": [
    "database_name = \"justica_estadual\"\n",
    "\n",
    "collection_name = \"processos-tjsp\"\n",
    "\n",
    "processos = list(client[database_name][collection_name].find(limit=100))\n",
    "\n",
    "print(f\"Total de processos {len(processos)}\")"
   ]
  },
  {
   "cell_type": "code",
   "execution_count": null,
   "metadata": {},
   "outputs": [],
   "source": [
    "df = pd.read_excel(\"dados-pessoal-TJSP.xlsx\", sep=\";\")\n",
    "df.shape"
   ]
  },
  {
   "cell_type": "code",
   "execution_count": null,
   "metadata": {},
   "outputs": [],
   "source": [
    "df.head()"
   ]
  },
  {
   "cell_type": "code",
   "execution_count": null,
   "metadata": {},
   "outputs": [],
   "source": [
    "def buscar_forca_trabalho(seq_orgao):\n",
    "    forca_trabalho = {}\n",
    "    \n",
    "    df_f = df[df[\"seq_orgao\"] == seq_orgao]\n",
    "\n",
    "    if len(df_f) == 0:\n",
    "        print(f\"Força de trabalho não encontrada para o orgão {seq_orgao}\")\n",
    "        return forca_trabalho\n",
    "    \n",
    "    for _, row in df_f.iterrows():\n",
    "        descricao_variavel = row[\"Descrição da variável\"]\n",
    "        quantidade = int(row[\"Qtd\"])\n",
    "        \n",
    "        descricao = stringcase.camelcase(slugify(descricao_variavel, separator='_'))\n",
    "        \n",
    "        forca_trabalho[descricao] = quantidade\n",
    "        \n",
    "    return forca_trabalho\n",
    "\n",
    "def salvar_forca_trabalho(documento, forca_trabalho):\n",
    "    collection = client[database_name][collection_name]\n",
    "\n",
    "    _id = documento[\"_id\"]\n",
    "\n",
    "    collection.update_one(\n",
    "        {\n",
    "            \"_id\": _id \n",
    "        },\n",
    "        {\n",
    "            '$set': { 'dadosBasicos.orgaoJulgador.forcaTrabalho': forca_trabalho }\n",
    "        }\n",
    "    )\n",
    "    \n",
    "for documento in processos:\n",
    "    orgao_julgador = documento[\"dadosBasicos\"][\"orgaoJulgador\"]\n",
    "    codigo_orgao = int(orgao_julgador[\"codigoOrgao\"])\n",
    "    forca_trabalho = buscar_forca_trabalho(codigo_orgao)\n",
    "    salvar_forca_trabalho(documento, forca_trabalho)"
   ]
  }
 ],
 "metadata": {
  "kernelspec": {
   "display_name": "Python 3",
   "language": "python",
   "name": "python3"
  },
  "language_info": {
   "codemirror_mode": {
    "name": "ipython",
    "version": 3
   },
   "file_extension": ".py",
   "mimetype": "text/x-python",
   "name": "python",
   "nbconvert_exporter": "python",
   "pygments_lexer": "ipython3",
   "version": "3.7.4"
  }
 },
 "nbformat": 4,
 "nbformat_minor": 4
}
