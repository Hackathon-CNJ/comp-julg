{
 "cells": [
  {
   "cell_type": "code",
   "execution_count": 1,
   "metadata": {
    "id": "MJLdbxX3eOdD"
   },
   "outputs": [
    {
     "name": "stderr",
     "output_type": "stream",
     "text": [
      "/home/johni/.pyenv/versions/3.7.4/envs/iara-ws-cnmp/lib/python3.7/site-packages/pandas/compat/__init__.py:117: UserWarning: Could not import the lzma module. Your installed Python is incomplete. Attempting to use lzma compression will result in a RuntimeError.\n",
      "  warnings.warn(msg)\n"
     ]
    }
   ],
   "source": [
    "import pandas as pd\n",
    "\n",
    "import numpy as np\n",
    "\n",
    "import pymongo"
   ]
  },
  {
   "cell_type": "code",
   "execution_count": 2,
   "metadata": {
    "id": "XehFMDJBmsBY"
   },
   "outputs": [],
   "source": [
    "MONGODB_URL = \"mongodb://35.237.232.73:27017/\"\n",
    "\n",
    "client = pymongo.MongoClient(MONGODB_URL)"
   ]
  },
  {
   "cell_type": "code",
   "execution_count": 3,
   "metadata": {
    "colab": {
     "base_uri": "https://localhost:8080/",
     "height": 34
    },
    "id": "vp9ki2MDehkc",
    "outputId": "d4948e52-b582-4944-bdb9-b4aef652f4ab"
   },
   "outputs": [
    {
     "data": {
      "text/plain": [
       "(39100, 17)"
      ]
     },
     "execution_count": 3,
     "metadata": {},
     "output_type": "execute_result"
    }
   ],
   "source": [
    "df = pd.read_csv(\"mpm_serventias.csv\", sep=';', low_memory=False)\n",
    "df.shape"
   ]
  },
  {
   "cell_type": "code",
   "execution_count": 4,
   "metadata": {
    "id": "L2U00Jq8mNE8"
   },
   "outputs": [],
   "source": [
    "df['SEQ_ORGAO'] = df['SEQ_ORGAO'].astype('int')\n",
    "df['SEQ_ORGAO_PAI'] = df['SEQ_ORGAO_PAI'].fillna(0).astype('int')\n",
    "df['DSC_ORGAO'] = df['DSC_ORGAO'].fillna(\"\").astype('object')"
   ]
  },
  {
   "cell_type": "code",
   "execution_count": 5,
   "metadata": {
    "colab": {
     "base_uri": "https://localhost:8080/",
     "height": 434
    },
    "id": "C59Nm-aWmKcC",
    "outputId": "faefe4da-24d1-4ff2-e521-265fbaadc3dd"
   },
   "outputs": [
    {
     "data": {
      "text/html": [
       "<div>\n",
       "<style scoped>\n",
       "    .dataframe tbody tr th:only-of-type {\n",
       "        vertical-align: middle;\n",
       "    }\n",
       "\n",
       "    .dataframe tbody tr th {\n",
       "        vertical-align: top;\n",
       "    }\n",
       "\n",
       "    .dataframe thead th {\n",
       "        text-align: right;\n",
       "    }\n",
       "</style>\n",
       "<table border=\"1\" class=\"dataframe\">\n",
       "  <thead>\n",
       "    <tr style=\"text-align: right;\">\n",
       "      <th></th>\n",
       "      <th>SEQ_ORGAO</th>\n",
       "      <th>NOMEDAVARA</th>\n",
       "      <th>SEQ_ORGAO_PAI</th>\n",
       "      <th>TIP_ORGAO</th>\n",
       "      <th>SEQ_CIDADE</th>\n",
       "      <th>DSC_CIDADE</th>\n",
       "      <th>SIG_UF</th>\n",
       "      <th>COD_IBGE</th>\n",
       "      <th>DSC_TIP_ORGAO</th>\n",
       "      <th>TIP_ESFERA_JUSTICA</th>\n",
       "      <th>INT_ORDEM_ORGAO</th>\n",
       "      <th>DSC_ORGAO</th>\n",
       "      <th>DSC_DENOM_SERVENTIA_JUDICIAL</th>\n",
       "      <th>endereco_serventia</th>\n",
       "      <th>cep_serventia</th>\n",
       "      <th>LATITUDE</th>\n",
       "      <th>LONGITUDE</th>\n",
       "    </tr>\n",
       "  </thead>\n",
       "  <tbody>\n",
       "    <tr>\n",
       "      <th>0</th>\n",
       "      <td>1</td>\n",
       "      <td>Conselho Nacional de Justiça</td>\n",
       "      <td>0</td>\n",
       "      <td>CNJ</td>\n",
       "      <td>743.0</td>\n",
       "      <td>BRASÍLIA</td>\n",
       "      <td>DF</td>\n",
       "      <td>5300108.0</td>\n",
       "      <td>Conselho Nacional de Justiça</td>\n",
       "      <td>S</td>\n",
       "      <td>0.0</td>\n",
       "      <td>Conselho Nacional de Justiça</td>\n",
       "      <td>NaN</td>\n",
       "      <td>NaN</td>\n",
       "      <td>NaN</td>\n",
       "      <td>NaN</td>\n",
       "      <td>NaN</td>\n",
       "    </tr>\n",
       "    <tr>\n",
       "      <th>1</th>\n",
       "      <td>2</td>\n",
       "      <td>Conselho da Justiça Federal</td>\n",
       "      <td>1</td>\n",
       "      <td>CONSF</td>\n",
       "      <td>743.0</td>\n",
       "      <td>BRASÍLIA</td>\n",
       "      <td>DF</td>\n",
       "      <td>5300108.0</td>\n",
       "      <td>Conselho da Justiça Federal</td>\n",
       "      <td>F</td>\n",
       "      <td>0.0</td>\n",
       "      <td>Conselho da Justiça Federal</td>\n",
       "      <td>NaN</td>\n",
       "      <td>NaN</td>\n",
       "      <td>NaN</td>\n",
       "      <td>NaN</td>\n",
       "      <td>NaN</td>\n",
       "    </tr>\n",
       "    <tr>\n",
       "      <th>2</th>\n",
       "      <td>3</td>\n",
       "      <td>Tribunal Regional Federal da 1ª Região</td>\n",
       "      <td>2</td>\n",
       "      <td>TRIBF</td>\n",
       "      <td>743.0</td>\n",
       "      <td>BRASÍLIA</td>\n",
       "      <td>DF</td>\n",
       "      <td>5300108.0</td>\n",
       "      <td>Tribunal Regional Federal</td>\n",
       "      <td>F</td>\n",
       "      <td>NaN</td>\n",
       "      <td>Tribunal Regional Federal da 1ª Região</td>\n",
       "      <td>NaN</td>\n",
       "      <td>NaN</td>\n",
       "      <td>NaN</td>\n",
       "      <td>NaN</td>\n",
       "      <td>NaN</td>\n",
       "    </tr>\n",
       "    <tr>\n",
       "      <th>3</th>\n",
       "      <td>4</td>\n",
       "      <td>Tribunal Regional Federal da 2ª Região</td>\n",
       "      <td>2</td>\n",
       "      <td>TRIBF</td>\n",
       "      <td>4155.0</td>\n",
       "      <td>RIO DE JANEIRO</td>\n",
       "      <td>RJ</td>\n",
       "      <td>3304557.0</td>\n",
       "      <td>Tribunal Regional Federal</td>\n",
       "      <td>F</td>\n",
       "      <td>NaN</td>\n",
       "      <td>Tribunal Regional Federal da 2ª Região</td>\n",
       "      <td>NaN</td>\n",
       "      <td>NaN</td>\n",
       "      <td>NaN</td>\n",
       "      <td>NaN</td>\n",
       "      <td>NaN</td>\n",
       "    </tr>\n",
       "    <tr>\n",
       "      <th>4</th>\n",
       "      <td>5</td>\n",
       "      <td>Tribunal Regional Federal da 3ª Região</td>\n",
       "      <td>2</td>\n",
       "      <td>TRIBF</td>\n",
       "      <td>4795.0</td>\n",
       "      <td>SAO PAULO</td>\n",
       "      <td>SP</td>\n",
       "      <td>3550308.0</td>\n",
       "      <td>Tribunal Regional Federal</td>\n",
       "      <td>F</td>\n",
       "      <td>NaN</td>\n",
       "      <td>Tribunal Regional Federal da 3ª Região</td>\n",
       "      <td>NaN</td>\n",
       "      <td>NaN</td>\n",
       "      <td>NaN</td>\n",
       "      <td>1050182067</td>\n",
       "      <td>607162856</td>\n",
       "    </tr>\n",
       "  </tbody>\n",
       "</table>\n",
       "</div>"
      ],
      "text/plain": [
       "   SEQ_ORGAO                              NOMEDAVARA  SEQ_ORGAO_PAI TIP_ORGAO  \\\n",
       "0          1            Conselho Nacional de Justiça              0       CNJ   \n",
       "1          2             Conselho da Justiça Federal              1     CONSF   \n",
       "2          3  Tribunal Regional Federal da 1ª Região              2     TRIBF   \n",
       "3          4  Tribunal Regional Federal da 2ª Região              2     TRIBF   \n",
       "4          5  Tribunal Regional Federal da 3ª Região              2     TRIBF   \n",
       "\n",
       "   SEQ_CIDADE      DSC_CIDADE SIG_UF   COD_IBGE                 DSC_TIP_ORGAO  \\\n",
       "0       743.0        BRASÍLIA     DF  5300108.0  Conselho Nacional de Justiça   \n",
       "1       743.0        BRASÍLIA     DF  5300108.0   Conselho da Justiça Federal   \n",
       "2       743.0        BRASÍLIA     DF  5300108.0     Tribunal Regional Federal   \n",
       "3      4155.0  RIO DE JANEIRO     RJ  3304557.0     Tribunal Regional Federal   \n",
       "4      4795.0       SAO PAULO     SP  3550308.0     Tribunal Regional Federal   \n",
       "\n",
       "  TIP_ESFERA_JUSTICA  INT_ORDEM_ORGAO                               DSC_ORGAO  \\\n",
       "0                  S              0.0            Conselho Nacional de Justiça   \n",
       "1                  F              0.0             Conselho da Justiça Federal   \n",
       "2                  F              NaN  Tribunal Regional Federal da 1ª Região   \n",
       "3                  F              NaN  Tribunal Regional Federal da 2ª Região   \n",
       "4                  F              NaN  Tribunal Regional Federal da 3ª Região   \n",
       "\n",
       "  DSC_DENOM_SERVENTIA_JUDICIAL endereco_serventia cep_serventia    LATITUDE  \\\n",
       "0                          NaN                NaN           NaN         NaN   \n",
       "1                          NaN                NaN           NaN         NaN   \n",
       "2                          NaN                NaN           NaN         NaN   \n",
       "3                          NaN                NaN           NaN         NaN   \n",
       "4                          NaN                NaN           NaN  1050182067   \n",
       "\n",
       "   LONGITUDE  \n",
       "0        NaN  \n",
       "1        NaN  \n",
       "2        NaN  \n",
       "3        NaN  \n",
       "4  607162856  "
      ]
     },
     "execution_count": 5,
     "metadata": {},
     "output_type": "execute_result"
    }
   ],
   "source": [
    "df.head()"
   ]
  },
  {
   "cell_type": "code",
   "execution_count": 6,
   "metadata": {
    "id": "43YmCJsEesrQ"
   },
   "outputs": [],
   "source": [
    "def calcular_entrancia(seq_orgao, df_param):\n",
    "  \"\"\"\n",
    "  Filtra as varas.\n",
    "  Campo \"dadosBasicos.orgaoJulgador.codigoOrgao\".\n",
    "  \"\"\"\n",
    "  df_f_orgao = df_param[df_param[\"SEQ_ORGAO\"] == seq_orgao]\n",
    "\n",
    "  if len(df_f_orgao) == 0:\n",
    "    print(f\"Orgão {seq_orgao} não encontrado!\")\n",
    "    return 0\n",
    "\n",
    "  seq_orgao_pai = df_f_orgao['SEQ_ORGAO_PAI'].values[0]\n",
    "\n",
    "  \"\"\"\n",
    "  Filtra as varas que tem o mesmo orgão pai\n",
    "  \"\"\"\n",
    "  df_f_orgao_pai = df_param[df_param[\"SEQ_ORGAO_PAI\"] == seq_orgao_pai]\n",
    "\n",
    "  if len(df_f_orgao_pai) == 0:\n",
    "    print(f\"Orgão pai {seq_orgao_pai} não encontrado!\")\n",
    "    return 0\n",
    "\n",
    "  total = df_f_orgao_pai[\"SEQ_ORGAO_PAI\"].notnull().count()\n",
    "\n",
    "  if total == 0:\n",
    "    print(f\"Orgao {seq_orgao} não possui orgão pai!\")\n",
    "    return 0\n",
    "\n",
    "  if total == 1:\n",
    "    return 1\n",
    "  elif total in [2, 3, 4]:\n",
    "    return 2\n",
    "  else:\n",
    "    return 3"
   ]
  },
  {
   "cell_type": "code",
   "execution_count": null,
   "metadata": {
    "id": "1nfsakiNdlas"
   },
   "outputs": [],
   "source": [
    "def inserir_entrancia(database_name, collection_name, document, entrancia):\n",
    "  \n",
    "  collection = client[database_name][collection_name]\n",
    "\n",
    "  _id =  document[\"_id\"]\n",
    "  \n",
    "  collection.update_one(\n",
    "      {\n",
    "          \"_id\": _id \n",
    "      }, \n",
    "      {\n",
    "          '$set': { 'dadosBasicos.orgaoJulgador.entrancia': entrancia }\n",
    "      }\n",
    "  )"
   ]
  },
  {
   "cell_type": "code",
   "execution_count": null,
   "metadata": {
    "id": "AcUZ2XbgsInR"
   },
   "outputs": [],
   "source": [
    "def processar_database(database_name, filter_collection=None):\n",
    "  print(f\"Processando database: {database_name}\")\n",
    "\n",
    "  collections = client[database_name].list_collection_names()\n",
    "\n",
    "  if filter_collection:\n",
    "    collections = [ collection for collection in collections if collection in filter_collection]\n",
    "  \n",
    "  for collection_name in collections:\n",
    "    documents = list(client[database_name][collection_name].find())\n",
    "\n",
    "    print(f\"Collection {collection_name} : total {len(documents)}\")\n",
    "\n",
    "    for document in documents:\n",
    "        \n",
    "      orgao_julgador = document[\"dadosBasicos\"][\"orgaoJulgador\"]\n",
    "      codigo_orgao = int(orgao_julgador[\"codigoOrgao\"])\n",
    "\n",
    "      entrancia = calcular_entrancia(codigo_orgao, df)\n",
    "\n",
    "      if entrancia == 0:\n",
    "        print(\"Não foi possível calcular a entrância:\", orgao_julgador)\n",
    "\n",
    "      inserir_entrancia(database_name, collection_name, document, entrancia)"
   ]
  },
  {
   "cell_type": "code",
   "execution_count": null,
   "metadata": {
    "colab": {
     "base_uri": "https://localhost:8080/",
     "height": 1000
    },
    "id": "g4uEfDEZs5sw",
    "outputId": "349b0df7-2742-4591-cbc6-9ee704776e65"
   },
   "outputs": [],
   "source": [
    "processar_database(\"justica_estadual\", [\"processos-tjsp\"])"
   ]
  },
  {
   "cell_type": "code",
   "execution_count": null,
   "metadata": {
    "id": "WpPPuRHBETDt"
   },
   "outputs": [],
   "source": [
    "database_para_processar = ['justica_eleitoral',\n",
    "                           'justica_federal', \n",
    "                           'justica_militar', \n",
    "                           'justica_trabalho',\n",
    "                           'justica_estadual',\n",
    "                           'tribunais_superiores']"
   ]
  }
 ],
 "metadata": {
  "colab": {
   "collapsed_sections": [],
   "name": "Cálculo de Entrância",
   "provenance": []
  },
  "kernelspec": {
   "display_name": "Python 3",
   "language": "python",
   "name": "python3"
  },
  "language_info": {
   "codemirror_mode": {
    "name": "ipython",
    "version": 3
   },
   "file_extension": ".py",
   "mimetype": "text/x-python",
   "name": "python",
   "nbconvert_exporter": "python",
   "pygments_lexer": "ipython3",
   "version": "3.7.4"
  }
 },
 "nbformat": 4,
 "nbformat_minor": 1
}
