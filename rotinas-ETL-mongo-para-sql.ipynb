{
  "nbformat": 4,
  "nbformat_minor": 0,
  "metadata": {
    "colab": {
      "name": "Rotinas ETL (mongo para sql)",
      "provenance": [],
      "collapsed_sections": []
    },
    "kernelspec": {
      "name": "python3",
      "display_name": "Python 3"
    }
  },
  "cells": [
    {
      "cell_type": "markdown",
      "metadata": {
        "id": "3Fv-OJ1jHxU3"
      },
      "source": [
        "## Export Serventias"
      ]
    },
    {
      "cell_type": "code",
      "metadata": {
        "id": "hlI_GTJPHyTx"
      },
      "source": [
        "from pymongo import MongoClient"
      ],
      "execution_count": 12,
      "outputs": []
    },
    {
      "cell_type": "code",
      "metadata": {
        "id": "oiV-5M88dGr2"
      },
      "source": [
        "import pandas as pd"
      ],
      "execution_count": 13,
      "outputs": []
    },
    {
      "cell_type": "code",
      "metadata": {
        "id": "eG_zdwjMcont"
      },
      "source": [
        "client = MongoClient('mongodb://35.237.232.73:27017/')"
      ],
      "execution_count": 14,
      "outputs": []
    },
    {
      "cell_type": "code",
      "metadata": {
        "id": "cwf_DtTyHw6_"
      },
      "source": [
        "db = client[\"dados_diversos\"]\n",
        "coll = db[\"mpm_serventias\"]"
      ],
      "execution_count": 15,
      "outputs": []
    },
    {
      "cell_type": "code",
      "metadata": {
        "id": "LHsK1wnlct01"
      },
      "source": [
        "df = pd.DataFrame(list(coll.find({}, {\"_id\":0})))"
      ],
      "execution_count": 16,
      "outputs": []
    },
    {
      "cell_type": "code",
      "metadata": {
        "id": "tizqv1rweXkk"
      },
      "source": [
        "# subistitui todos Nan/Null para 0\n",
        "df = df.fillna(0)"
      ],
      "execution_count": 17,
      "outputs": []
    },
    {
      "cell_type": "code",
      "metadata": {
        "id": "TZ1pGufPeHx1"
      },
      "source": [
        "# colunas para converter float to int\n",
        "columns_convert = [\"SEQ_ORGAO\", \"SEQ_ORGAO_PAI\", \n",
        "                   \"SEQ_CIDADE\", \"COD_IBGE\", \"INT_ORDEM_ORGAO\", \n",
        "                   \"QTD_CEDIDOS\", \"QTD_COMISSIONADO\", \n",
        "                   \"QTD_EFETIVOS\", \"QTD_ESTAGIARIOS\", \"QTD_TERCERIADOS\", \n",
        "                   \"QTD_PROC_PENDENTES\", \"TIP_ENTRANCIA\"]"
      ],
      "execution_count": 18,
      "outputs": []
    },
    {
      "cell_type": "code",
      "metadata": {
        "id": "ErWMnyzXdj-n"
      },
      "source": [
        "df[columns_convert] = df[columns_convert].astype(int)"
      ],
      "execution_count": 19,
      "outputs": []
    },
    {
      "cell_type": "code",
      "metadata": {
        "id": "TkOQwrM7dNG5",
        "outputId": "898aef12-09b7-494c-b68e-24f2f06bd39d",
        "colab": {
          "base_uri": "https://localhost:8080/",
          "height": 451
        }
      },
      "source": [
        "df.head()"
      ],
      "execution_count": 21,
      "outputs": [
        {
          "output_type": "execute_result",
          "data": {
            "text/html": [
              "<div>\n",
              "<style scoped>\n",
              "    .dataframe tbody tr th:only-of-type {\n",
              "        vertical-align: middle;\n",
              "    }\n",
              "\n",
              "    .dataframe tbody tr th {\n",
              "        vertical-align: top;\n",
              "    }\n",
              "\n",
              "    .dataframe thead th {\n",
              "        text-align: right;\n",
              "    }\n",
              "</style>\n",
              "<table border=\"1\" class=\"dataframe\">\n",
              "  <thead>\n",
              "    <tr style=\"text-align: right;\">\n",
              "      <th></th>\n",
              "      <th>SEQ_ORGAO</th>\n",
              "      <th>NOMEDAVARA</th>\n",
              "      <th>SEQ_ORGAO_PAI</th>\n",
              "      <th>TIP_ORGAO</th>\n",
              "      <th>SEQ_CIDADE</th>\n",
              "      <th>DSC_CIDADE</th>\n",
              "      <th>SIG_UF</th>\n",
              "      <th>COD_IBGE</th>\n",
              "      <th>DSC_TIP_ORGAO</th>\n",
              "      <th>TIP_ESFERA_JUSTICA</th>\n",
              "      <th>INT_ORDEM_ORGAO</th>\n",
              "      <th>DSC_ORGAO</th>\n",
              "      <th>DSC_DENOM_SERVENTIA_JUDICIAL</th>\n",
              "      <th>endereco_serventia</th>\n",
              "      <th>cep_serventia</th>\n",
              "      <th>LATITUDE</th>\n",
              "      <th>LONGITUDE</th>\n",
              "      <th>QTD_CEDIDOS</th>\n",
              "      <th>QTD_COMISSIONADO</th>\n",
              "      <th>QTD_EFETIVOS</th>\n",
              "      <th>QTD_ESTAGIARIOS</th>\n",
              "      <th>QTD_TERCERIADOS</th>\n",
              "      <th>QTD_PROC_PENDENTES</th>\n",
              "      <th>TIP_ENTRANCIA</th>\n",
              "    </tr>\n",
              "  </thead>\n",
              "  <tbody>\n",
              "    <tr>\n",
              "      <th>0</th>\n",
              "      <td>2</td>\n",
              "      <td>Conselho da Justiça Federal</td>\n",
              "      <td>1</td>\n",
              "      <td>CONSF</td>\n",
              "      <td>743</td>\n",
              "      <td>BRASÍLIA</td>\n",
              "      <td>DF</td>\n",
              "      <td>5300108</td>\n",
              "      <td>Conselho da Justiça Federal</td>\n",
              "      <td>F</td>\n",
              "      <td>0</td>\n",
              "      <td>Conselho da Justiça Federal</td>\n",
              "      <td>0</td>\n",
              "      <td>0</td>\n",
              "      <td>0</td>\n",
              "      <td>0</td>\n",
              "      <td>0</td>\n",
              "      <td>0</td>\n",
              "      <td>0</td>\n",
              "      <td>0</td>\n",
              "      <td>0</td>\n",
              "      <td>0</td>\n",
              "      <td>0</td>\n",
              "      <td>3</td>\n",
              "    </tr>\n",
              "    <tr>\n",
              "      <th>1</th>\n",
              "      <td>3</td>\n",
              "      <td>Tribunal Regional Federal da 1ª Região</td>\n",
              "      <td>2</td>\n",
              "      <td>TRIBF</td>\n",
              "      <td>743</td>\n",
              "      <td>BRASÍLIA</td>\n",
              "      <td>DF</td>\n",
              "      <td>5300108</td>\n",
              "      <td>Tribunal Regional Federal</td>\n",
              "      <td>F</td>\n",
              "      <td>0</td>\n",
              "      <td>Tribunal Regional Federal da 1ª Região</td>\n",
              "      <td>0</td>\n",
              "      <td>0</td>\n",
              "      <td>0</td>\n",
              "      <td>0</td>\n",
              "      <td>0</td>\n",
              "      <td>0</td>\n",
              "      <td>0</td>\n",
              "      <td>0</td>\n",
              "      <td>0</td>\n",
              "      <td>0</td>\n",
              "      <td>0</td>\n",
              "      <td>3</td>\n",
              "    </tr>\n",
              "    <tr>\n",
              "      <th>2</th>\n",
              "      <td>4</td>\n",
              "      <td>Tribunal Regional Federal da 2ª Região</td>\n",
              "      <td>2</td>\n",
              "      <td>TRIBF</td>\n",
              "      <td>4155</td>\n",
              "      <td>RIO DE JANEIRO</td>\n",
              "      <td>RJ</td>\n",
              "      <td>3304557</td>\n",
              "      <td>Tribunal Regional Federal</td>\n",
              "      <td>F</td>\n",
              "      <td>0</td>\n",
              "      <td>Tribunal Regional Federal da 2ª Região</td>\n",
              "      <td>0</td>\n",
              "      <td>0</td>\n",
              "      <td>0</td>\n",
              "      <td>0</td>\n",
              "      <td>0</td>\n",
              "      <td>0</td>\n",
              "      <td>0</td>\n",
              "      <td>0</td>\n",
              "      <td>0</td>\n",
              "      <td>0</td>\n",
              "      <td>0</td>\n",
              "      <td>3</td>\n",
              "    </tr>\n",
              "    <tr>\n",
              "      <th>3</th>\n",
              "      <td>5</td>\n",
              "      <td>Tribunal Regional Federal da 3ª Região</td>\n",
              "      <td>2</td>\n",
              "      <td>TRIBF</td>\n",
              "      <td>4795</td>\n",
              "      <td>SAO PAULO</td>\n",
              "      <td>SP</td>\n",
              "      <td>3550308</td>\n",
              "      <td>Tribunal Regional Federal</td>\n",
              "      <td>F</td>\n",
              "      <td>0</td>\n",
              "      <td>Tribunal Regional Federal da 3ª Região</td>\n",
              "      <td>0</td>\n",
              "      <td>0</td>\n",
              "      <td>0</td>\n",
              "      <td>1050182067</td>\n",
              "      <td>607162856</td>\n",
              "      <td>0</td>\n",
              "      <td>0</td>\n",
              "      <td>0</td>\n",
              "      <td>0</td>\n",
              "      <td>0</td>\n",
              "      <td>0</td>\n",
              "      <td>3</td>\n",
              "    </tr>\n",
              "    <tr>\n",
              "      <th>4</th>\n",
              "      <td>6</td>\n",
              "      <td>Tribunal Regional Federal da 4ª Região</td>\n",
              "      <td>2</td>\n",
              "      <td>TRIBF</td>\n",
              "      <td>3897</td>\n",
              "      <td>PORTO ALEGRE</td>\n",
              "      <td>RS</td>\n",
              "      <td>4314902</td>\n",
              "      <td>Tribunal Regional Federal</td>\n",
              "      <td>F</td>\n",
              "      <td>0</td>\n",
              "      <td>Tribunal Regional Federal da 4ª Região</td>\n",
              "      <td>0</td>\n",
              "      <td>0</td>\n",
              "      <td>0</td>\n",
              "      <td>0</td>\n",
              "      <td>0</td>\n",
              "      <td>0</td>\n",
              "      <td>0</td>\n",
              "      <td>0</td>\n",
              "      <td>0</td>\n",
              "      <td>0</td>\n",
              "      <td>0</td>\n",
              "      <td>3</td>\n",
              "    </tr>\n",
              "  </tbody>\n",
              "</table>\n",
              "</div>"
            ],
            "text/plain": [
              "   SEQ_ORGAO  ... TIP_ENTRANCIA\n",
              "0          2  ...             3\n",
              "1          3  ...             3\n",
              "2          4  ...             3\n",
              "3          5  ...             3\n",
              "4          6  ...             3\n",
              "\n",
              "[5 rows x 24 columns]"
            ]
          },
          "metadata": {
            "tags": []
          },
          "execution_count": 21
        }
      ]
    },
    {
      "cell_type": "markdown",
      "metadata": {
        "id": "53mzKMDbeoGV"
      },
      "source": [
        "### Conexão MySQL"
      ]
    },
    {
      "cell_type": "code",
      "metadata": {
        "id": "ZCFx8vx8gB4Y"
      },
      "source": [
        "from pandas.io import sql"
      ],
      "execution_count": 22,
      "outputs": []
    },
    {
      "cell_type": "code",
      "metadata": {
        "id": "ME6h9fZVgojA"
      },
      "source": [
        "from sqlalchemy import create_engine"
      ],
      "execution_count": 23,
      "outputs": []
    },
    {
      "cell_type": "code",
      "metadata": {
        "id": "q1Fg35KYgrx3"
      },
      "source": [
        "# cria engine para usar no pandas\n",
        "engine = create_engine('mysql+pymysql://root@35.238.86.130/HACKATHON_CNJ')"
      ],
      "execution_count": 28,
      "outputs": []
    },
    {
      "cell_type": "markdown",
      "metadata": {
        "id": "Zz-f8vhJiBmc"
      },
      "source": [
        "### Exportar df to mysql"
      ]
    },
    {
      "cell_type": "code",
      "metadata": {
        "id": "-gwdLT6kerob"
      },
      "source": [
        "# EXPORTA O DATAFRAME PARA UMA TABELA NO MYSQL\n",
        "\n",
        "df.to_sql(con=engine, name='mpm_serventias', if_exists='replace')"
      ],
      "execution_count": 29,
      "outputs": []
    },
    {
      "cell_type": "markdown",
      "metadata": {
        "id": "4dpPeZ5Gg_DS"
      },
      "source": [
        "### Checar Tabela\n"
      ]
    },
    {
      "cell_type": "code",
      "metadata": {
        "id": "FM5S5Kw1hwk7"
      },
      "source": [
        "df_resultado_serventias = sql.read_sql_table(\"mpm_serventias\", engine)"
      ],
      "execution_count": 30,
      "outputs": []
    },
    {
      "cell_type": "code",
      "metadata": {
        "id": "YNdgFki-h4rX",
        "outputId": "c7d65587-db3d-47c5-e6d6-21b147a1faf1",
        "colab": {
          "base_uri": "https://localhost:8080/",
          "height": 451
        }
      },
      "source": [
        "df_resultado_serventias.head()"
      ],
      "execution_count": 31,
      "outputs": [
        {
          "output_type": "execute_result",
          "data": {
            "text/html": [
              "<div>\n",
              "<style scoped>\n",
              "    .dataframe tbody tr th:only-of-type {\n",
              "        vertical-align: middle;\n",
              "    }\n",
              "\n",
              "    .dataframe tbody tr th {\n",
              "        vertical-align: top;\n",
              "    }\n",
              "\n",
              "    .dataframe thead th {\n",
              "        text-align: right;\n",
              "    }\n",
              "</style>\n",
              "<table border=\"1\" class=\"dataframe\">\n",
              "  <thead>\n",
              "    <tr style=\"text-align: right;\">\n",
              "      <th></th>\n",
              "      <th>index</th>\n",
              "      <th>SEQ_ORGAO</th>\n",
              "      <th>NOMEDAVARA</th>\n",
              "      <th>SEQ_ORGAO_PAI</th>\n",
              "      <th>TIP_ORGAO</th>\n",
              "      <th>SEQ_CIDADE</th>\n",
              "      <th>DSC_CIDADE</th>\n",
              "      <th>SIG_UF</th>\n",
              "      <th>COD_IBGE</th>\n",
              "      <th>DSC_TIP_ORGAO</th>\n",
              "      <th>TIP_ESFERA_JUSTICA</th>\n",
              "      <th>INT_ORDEM_ORGAO</th>\n",
              "      <th>DSC_ORGAO</th>\n",
              "      <th>DSC_DENOM_SERVENTIA_JUDICIAL</th>\n",
              "      <th>endereco_serventia</th>\n",
              "      <th>cep_serventia</th>\n",
              "      <th>LATITUDE</th>\n",
              "      <th>LONGITUDE</th>\n",
              "      <th>QTD_CEDIDOS</th>\n",
              "      <th>QTD_COMISSIONADO</th>\n",
              "      <th>QTD_EFETIVOS</th>\n",
              "      <th>QTD_ESTAGIARIOS</th>\n",
              "      <th>QTD_TERCERIADOS</th>\n",
              "      <th>QTD_PROC_PENDENTES</th>\n",
              "      <th>TIP_ENTRANCIA</th>\n",
              "    </tr>\n",
              "  </thead>\n",
              "  <tbody>\n",
              "    <tr>\n",
              "      <th>0</th>\n",
              "      <td>0</td>\n",
              "      <td>2</td>\n",
              "      <td>Conselho da Justiça Federal</td>\n",
              "      <td>1</td>\n",
              "      <td>CONSF</td>\n",
              "      <td>743</td>\n",
              "      <td>BRASÍLIA</td>\n",
              "      <td>DF</td>\n",
              "      <td>5300108</td>\n",
              "      <td>Conselho da Justiça Federal</td>\n",
              "      <td>F</td>\n",
              "      <td>0</td>\n",
              "      <td>Conselho da Justiça Federal</td>\n",
              "      <td>0</td>\n",
              "      <td>0</td>\n",
              "      <td>0</td>\n",
              "      <td>0</td>\n",
              "      <td>0</td>\n",
              "      <td>0</td>\n",
              "      <td>0</td>\n",
              "      <td>0</td>\n",
              "      <td>0</td>\n",
              "      <td>0</td>\n",
              "      <td>0</td>\n",
              "      <td>3</td>\n",
              "    </tr>\n",
              "    <tr>\n",
              "      <th>1</th>\n",
              "      <td>1</td>\n",
              "      <td>3</td>\n",
              "      <td>Tribunal Regional Federal da 1ª Região</td>\n",
              "      <td>2</td>\n",
              "      <td>TRIBF</td>\n",
              "      <td>743</td>\n",
              "      <td>BRASÍLIA</td>\n",
              "      <td>DF</td>\n",
              "      <td>5300108</td>\n",
              "      <td>Tribunal Regional Federal</td>\n",
              "      <td>F</td>\n",
              "      <td>0</td>\n",
              "      <td>Tribunal Regional Federal da 1ª Região</td>\n",
              "      <td>0</td>\n",
              "      <td>0</td>\n",
              "      <td>0</td>\n",
              "      <td>0</td>\n",
              "      <td>0</td>\n",
              "      <td>0</td>\n",
              "      <td>0</td>\n",
              "      <td>0</td>\n",
              "      <td>0</td>\n",
              "      <td>0</td>\n",
              "      <td>0</td>\n",
              "      <td>3</td>\n",
              "    </tr>\n",
              "    <tr>\n",
              "      <th>2</th>\n",
              "      <td>2</td>\n",
              "      <td>4</td>\n",
              "      <td>Tribunal Regional Federal da 2ª Região</td>\n",
              "      <td>2</td>\n",
              "      <td>TRIBF</td>\n",
              "      <td>4155</td>\n",
              "      <td>RIO DE JANEIRO</td>\n",
              "      <td>RJ</td>\n",
              "      <td>3304557</td>\n",
              "      <td>Tribunal Regional Federal</td>\n",
              "      <td>F</td>\n",
              "      <td>0</td>\n",
              "      <td>Tribunal Regional Federal da 2ª Região</td>\n",
              "      <td>0</td>\n",
              "      <td>0</td>\n",
              "      <td>0</td>\n",
              "      <td>0</td>\n",
              "      <td>0</td>\n",
              "      <td>0</td>\n",
              "      <td>0</td>\n",
              "      <td>0</td>\n",
              "      <td>0</td>\n",
              "      <td>0</td>\n",
              "      <td>0</td>\n",
              "      <td>3</td>\n",
              "    </tr>\n",
              "    <tr>\n",
              "      <th>3</th>\n",
              "      <td>3</td>\n",
              "      <td>5</td>\n",
              "      <td>Tribunal Regional Federal da 3ª Região</td>\n",
              "      <td>2</td>\n",
              "      <td>TRIBF</td>\n",
              "      <td>4795</td>\n",
              "      <td>SAO PAULO</td>\n",
              "      <td>SP</td>\n",
              "      <td>3550308</td>\n",
              "      <td>Tribunal Regional Federal</td>\n",
              "      <td>F</td>\n",
              "      <td>0</td>\n",
              "      <td>Tribunal Regional Federal da 3ª Região</td>\n",
              "      <td>0</td>\n",
              "      <td>0</td>\n",
              "      <td>0</td>\n",
              "      <td>1050182067</td>\n",
              "      <td>607162856</td>\n",
              "      <td>0</td>\n",
              "      <td>0</td>\n",
              "      <td>0</td>\n",
              "      <td>0</td>\n",
              "      <td>0</td>\n",
              "      <td>0</td>\n",
              "      <td>3</td>\n",
              "    </tr>\n",
              "    <tr>\n",
              "      <th>4</th>\n",
              "      <td>4</td>\n",
              "      <td>6</td>\n",
              "      <td>Tribunal Regional Federal da 4ª Região</td>\n",
              "      <td>2</td>\n",
              "      <td>TRIBF</td>\n",
              "      <td>3897</td>\n",
              "      <td>PORTO ALEGRE</td>\n",
              "      <td>RS</td>\n",
              "      <td>4314902</td>\n",
              "      <td>Tribunal Regional Federal</td>\n",
              "      <td>F</td>\n",
              "      <td>0</td>\n",
              "      <td>Tribunal Regional Federal da 4ª Região</td>\n",
              "      <td>0</td>\n",
              "      <td>0</td>\n",
              "      <td>0</td>\n",
              "      <td>0</td>\n",
              "      <td>0</td>\n",
              "      <td>0</td>\n",
              "      <td>0</td>\n",
              "      <td>0</td>\n",
              "      <td>0</td>\n",
              "      <td>0</td>\n",
              "      <td>0</td>\n",
              "      <td>3</td>\n",
              "    </tr>\n",
              "  </tbody>\n",
              "</table>\n",
              "</div>"
            ],
            "text/plain": [
              "   index  SEQ_ORGAO  ... QTD_PROC_PENDENTES  TIP_ENTRANCIA\n",
              "0      0          2  ...                  0              3\n",
              "1      1          3  ...                  0              3\n",
              "2      2          4  ...                  0              3\n",
              "3      3          5  ...                  0              3\n",
              "4      4          6  ...                  0              3\n",
              "\n",
              "[5 rows x 25 columns]"
            ]
          },
          "metadata": {
            "tags": []
          },
          "execution_count": 31
        }
      ]
    }
  ]
}