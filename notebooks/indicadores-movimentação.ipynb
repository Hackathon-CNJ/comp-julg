{
  "nbformat": 4,
  "nbformat_minor": 0,
  "metadata": {
    "colab": {
      "name": "Indicadores Movimentação",
      "provenance": [],
      "collapsed_sections": []
    },
    "kernelspec": {
      "name": "python3",
      "display_name": "Python 3"
    }
  },
  "cells": [
    {
      "cell_type": "markdown",
      "metadata": {
        "id": "cCjSdmYVD7TH"
      },
      "source": [
        "As transformaçoes abaixo são validas somente para criar indicadores que utilizam agrupamentos de Clase Processual e Orgão Julgador"
      ]
    },
    {
      "cell_type": "markdown",
      "metadata": {
        "id": "9aMBq8tFBdfJ"
      },
      "source": [
        "## SETUP"
      ]
    },
    {
      "cell_type": "code",
      "metadata": {
        "id": "85-DMRtPBefB"
      },
      "source": [
        "import pandas as pd\n",
        "from collections import Counter\n",
        "from pymongo import MongoClient"
      ],
      "execution_count": null,
      "outputs": []
    },
    {
      "cell_type": "code",
      "metadata": {
        "id": "lkiLBpoaIYSC"
      },
      "source": [
        "import datetime\n",
        "import statistics"
      ],
      "execution_count": null,
      "outputs": []
    },
    {
      "cell_type": "markdown",
      "metadata": {
        "id": "XNlUKVjOuQOk"
      },
      "source": [
        "### Cria tabela de indicadores"
      ]
    },
    {
      "cell_type": "code",
      "metadata": {
        "id": "YXrgQOw8u-uE",
        "outputId": "ffc9bd80-c8f1-4f10-934f-02f956f480f0",
        "colab": {
          "base_uri": "https://localhost:8080/",
          "height": 109
        }
      },
      "source": [
        "!pip install pymysql"
      ],
      "execution_count": null,
      "outputs": [
        {
          "output_type": "stream",
          "text": [
            "Collecting pymysql\n",
            "\u001b[?25l  Downloading https://files.pythonhosted.org/packages/1a/ea/dd9c81e2d85efd03cfbf808736dd055bd9ea1a78aea9968888b1055c3263/PyMySQL-0.10.1-py2.py3-none-any.whl (47kB)\n",
            "\r\u001b[K     |██████▉                         | 10kB 15.7MB/s eta 0:00:01\r\u001b[K     |█████████████▊                  | 20kB 1.7MB/s eta 0:00:01\r\u001b[K     |████████████████████▌           | 30kB 2.3MB/s eta 0:00:01\r\u001b[K     |███████████████████████████▍    | 40kB 2.6MB/s eta 0:00:01\r\u001b[K     |████████████████████████████████| 51kB 1.7MB/s \n",
            "\u001b[?25hInstalling collected packages: pymysql\n",
            "Successfully installed pymysql-0.10.1\n"
          ],
          "name": "stdout"
        }
      ]
    },
    {
      "cell_type": "code",
      "metadata": {
        "id": "NOfSY9LDuR-u"
      },
      "source": [
        "tabela_indicadores = [(1, \"Tempo médio entre a distribuição e o primeiro impulso do processo\", \"26 - Distribuição\",\t\"11010 - Mero Expediente, 3 - Decisão, 11009 - Despacho, 1 - Magistrado, 1013 - Determinação, 12164 - Outras Decisões, 11383 - Ato Ordinatório, 12265 - Expedida/certificada\", \t\"1 vez\", \"\"),\n",
        "(2, \"Tempo médio entre a distribuição e o envio para concluso\",\t\"26 - Distribuição\",\t\"51 - Conclusão\",\t\"1 vez\",\t\"Considera a primeira movimentação de distribuição e a movimentação de conclusão subsequente.\"),\n",
        "(3, \"Tempo médio entre a distribuição e a primeira audiência\",\t\"26 - Distribuição\",\t\"970 - Audiência\",\t\"1 vez\", \"\"),\n",
        "(4, \"Tempo médio entre a distribuição e a primeira ação do magistrado\",\t\"26 - Distribuição\",\t\"11010 - Mero Expediente, 3 - Decisão, 11009 - Despacho, 1 - Magistrado, 1013 - Determinação, 12164 - Outras Decisões\",\t\"1 vez\", \"\")]"
      ],
      "execution_count": null,
      "outputs": []
    },
    {
      "cell_type": "code",
      "metadata": {
        "id": "wk6-q4jkuWNg"
      },
      "source": [
        "from pandas.io import sql\n",
        "from sqlalchemy import create_engine"
      ],
      "execution_count": null,
      "outputs": []
    },
    {
      "cell_type": "code",
      "metadata": {
        "id": "QTJHMYOUu2gR"
      },
      "source": [
        "# cria engine para usar no pandas\n",
        "engine = create_engine('mysql+pymysql://root@35.238.86.130/HACKATHON_CNJ')"
      ],
      "execution_count": null,
      "outputs": []
    },
    {
      "cell_type": "code",
      "metadata": {
        "id": "3MrTgrfGvHT5"
      },
      "source": [
        "df_indicadores = pd.DataFrame(tabela_indicadores, columns=[\"cod\", \"indicador\", \"condicao_1\", \"condicao_2\", \"unico_iterativo\", \"observacao\"])"
      ],
      "execution_count": null,
      "outputs": []
    },
    {
      "cell_type": "code",
      "metadata": {
        "id": "ppICWbl_vgnQ",
        "outputId": "0ab62052-427f-4263-8bd6-62de228e7b47",
        "colab": {
          "base_uri": "https://localhost:8080/",
          "height": 175
        }
      },
      "source": [
        "df_indicadores.head()"
      ],
      "execution_count": null,
      "outputs": [
        {
          "output_type": "execute_result",
          "data": {
            "text/html": [
              "<div>\n",
              "<style scoped>\n",
              "    .dataframe tbody tr th:only-of-type {\n",
              "        vertical-align: middle;\n",
              "    }\n",
              "\n",
              "    .dataframe tbody tr th {\n",
              "        vertical-align: top;\n",
              "    }\n",
              "\n",
              "    .dataframe thead th {\n",
              "        text-align: right;\n",
              "    }\n",
              "</style>\n",
              "<table border=\"1\" class=\"dataframe\">\n",
              "  <thead>\n",
              "    <tr style=\"text-align: right;\">\n",
              "      <th></th>\n",
              "      <th>cod</th>\n",
              "      <th>indicador</th>\n",
              "      <th>condicao_1</th>\n",
              "      <th>condicao_2</th>\n",
              "      <th>unico_iterativo</th>\n",
              "      <th>observacao</th>\n",
              "    </tr>\n",
              "  </thead>\n",
              "  <tbody>\n",
              "    <tr>\n",
              "      <th>0</th>\n",
              "      <td>1</td>\n",
              "      <td>Tempo médio entre a distribuição e o primeiro ...</td>\n",
              "      <td>26 - Distribuição</td>\n",
              "      <td>11010 - Mero Expediente, 3 - Decisão, 11009 - ...</td>\n",
              "      <td>1 vez</td>\n",
              "      <td></td>\n",
              "    </tr>\n",
              "    <tr>\n",
              "      <th>1</th>\n",
              "      <td>2</td>\n",
              "      <td>Tempo médio entre a distribuição e o envio par...</td>\n",
              "      <td>26 - Distribuição</td>\n",
              "      <td>51 - Conclusão</td>\n",
              "      <td>1 vez</td>\n",
              "      <td>Considera a primeira movimentação de distribui...</td>\n",
              "    </tr>\n",
              "    <tr>\n",
              "      <th>2</th>\n",
              "      <td>3</td>\n",
              "      <td>Tempo médio entre a distribuição e a primeira ...</td>\n",
              "      <td>26 - Distribuição</td>\n",
              "      <td>970 - Audiência</td>\n",
              "      <td>1 vez</td>\n",
              "      <td></td>\n",
              "    </tr>\n",
              "    <tr>\n",
              "      <th>3</th>\n",
              "      <td>4</td>\n",
              "      <td>Tempo médio entre a distribuição e a primeira ...</td>\n",
              "      <td>26 - Distribuição</td>\n",
              "      <td>11010 - Mero Expediente, 3 - Decisão, 11009 - ...</td>\n",
              "      <td>1 vez</td>\n",
              "      <td></td>\n",
              "    </tr>\n",
              "  </tbody>\n",
              "</table>\n",
              "</div>"
            ],
            "text/plain": [
              "   cod  ...                                         observacao\n",
              "0    1  ...                                                   \n",
              "1    2  ...  Considera a primeira movimentação de distribui...\n",
              "2    3  ...                                                   \n",
              "3    4  ...                                                   \n",
              "\n",
              "[4 rows x 6 columns]"
            ]
          },
          "metadata": {
            "tags": []
          },
          "execution_count": 12
        }
      ]
    },
    {
      "cell_type": "code",
      "metadata": {
        "id": "wR_eVTW6vsHg"
      },
      "source": [
        "# EXPORTA O DATAFRAME PARA UMA TABELA NO MYSQL\n",
        "\n",
        "df_indicadores.to_sql(con=engine, name='indicadores', if_exists='replace')"
      ],
      "execution_count": null,
      "outputs": []
    },
    {
      "cell_type": "markdown",
      "metadata": {
        "id": "eOfDh08IvFS4"
      },
      "source": [
        ""
      ]
    },
    {
      "cell_type": "markdown",
      "metadata": {
        "id": "dHFk8ptRBh5w"
      },
      "source": [
        "## Conexão com o Mongo"
      ]
    },
    {
      "cell_type": "code",
      "metadata": {
        "id": "1eTSsjAEBjjY"
      },
      "source": [
        "client = MongoClient('mongodb://35.237.232.73:27017/')"
      ],
      "execution_count": null,
      "outputs": []
    },
    {
      "cell_type": "code",
      "metadata": {
        "id": "w0cx7F1kBhbC"
      },
      "source": [
        "db = client[\"justica_estadual\"]"
      ],
      "execution_count": null,
      "outputs": []
    },
    {
      "cell_type": "code",
      "metadata": {
        "id": "WAo2Z8kbBJwn"
      },
      "source": [
        "coll = \"processos-tjsp\""
      ],
      "execution_count": null,
      "outputs": []
    },
    {
      "cell_type": "markdown",
      "metadata": {
        "id": "jRA_YsLsBnNE"
      },
      "source": [
        "## Processo de agrupamento"
      ]
    },
    {
      "cell_type": "code",
      "metadata": {
        "id": "oxaZ4DN4BptA"
      },
      "source": [
        "def get_process(db, collection, query={}):\n",
        "  return list(db[collection].find(query))"
      ],
      "execution_count": null,
      "outputs": []
    },
    {
      "cell_type": "code",
      "metadata": {
        "id": "Rcbibq_1DZ7j"
      },
      "source": [
        "def split_process(data):\n",
        "  \"\"\"\n",
        "    Recebe uma lista de processos e retorna uma nova lista\n",
        "    agrupando processos por Classe Processual e por Orgão julgador\n",
        "\n",
        "    {\n",
        "      classe_processual: {\n",
        "        orgao_julgador: [\n",
        "          processo\n",
        "        ]\n",
        "      }\n",
        "    }\n",
        "\n",
        "  \"\"\"\n",
        "  process_list = {}\n",
        "\n",
        "  for process in data:\n",
        "    classe_processual = process[\"dadosBasicos\"][\"classeProcessual\"]\n",
        "    orgao_julgador = process[\"dadosBasicos\"][\"orgaoJulgador\"][\"codigoOrgao\"]\n",
        "\n",
        "    # caso não exista a classe processual na lista\n",
        "    if not process_list.get(classe_processual):\n",
        "      # cria um novo dict com a classe processual como chave\n",
        "      process_list[classe_processual] = {}\n",
        "\n",
        "    # caso não exista o orgao julgador dentro do dict da classe processual\n",
        "    if not process_list[classe_processual].get(orgao_julgador):\n",
        "      # aqui cria uma lista para adicionar o processo\n",
        "      process_list[classe_processual][orgao_julgador] = []\n",
        "\n",
        "    process_list[classe_processual][orgao_julgador].append(process)\n",
        "  \n",
        "  return process_list"
      ],
      "execution_count": null,
      "outputs": []
    },
    {
      "cell_type": "code",
      "metadata": {
        "id": "Qs-0JmnfEuyx"
      },
      "source": [
        "def get_range_dates(data, condition_1, condition_2):\n",
        "  \"\"\"\n",
        "    data: Lista de processos agrupados por classe_processual e orgao_julgador\n",
        "    condition_1: lista de inteiros -> DE\n",
        "    condition_2: lista de inteiros -> Até\n",
        "\n",
        "    Captura datas dos movimentos da condition_1 até a condition_2\n",
        "  \"\"\"\n",
        "  group_range_dates = {}\n",
        "\n",
        "  # for nos processos agrupados por Classe Processual e por Orgão julgador\n",
        "  for classe_processual in data:\n",
        "    group_range_dates[classe_processual] = {}\n",
        "\n",
        "    # for nos orgaos\n",
        "    for orgao_processual in data[classe_processual]:\n",
        "      group_range_dates[classe_processual][orgao_processual] = []\n",
        "\n",
        "      # for nos processos\n",
        "      for processo in data[classe_processual][orgao_processual]:\n",
        "\n",
        "        res_condition_1 = None\n",
        "        res_condition_2 = None\n",
        "\n",
        "        # se existir movimentos no processo\n",
        "        if processo.get(\"movimento\"):\n",
        "          for mov in processo[\"movimento\"]:\n",
        "            \n",
        "            # condições de nomenclatura no codigo do movimento\n",
        "            if mov.get(\"movimentoNacional\"):\n",
        "              cod_mov = mov[\"movimentoNacional\"][\"codigoNacional\"]\n",
        "            elif mov.get(\"movimentoLocal\"):\n",
        "              cod_mov = mov[\"movimentoLocal\"][\"codigoPaiNacional\"]\n",
        "            else:\n",
        "              cod_mov = 0\n",
        "            \n",
        "            if (cod_mov in condition_1) and (res_condition_1 is None):\n",
        "              res_condition_1 = mov[\"dataHora\"]\n",
        "            elif (cod_mov in condition_2) and (res_condition_2 is None):\n",
        "              res_condition_2 = mov[\"dataHora\"]\n",
        "\n",
        "            if (res_condition_1 is not None) and (res_condition_2 is not None):\n",
        "              group_range_dates[classe_processual][orgao_processual].append(\n",
        "                  (res_condition_1, res_condition_2)\n",
        "              )\n",
        "              break\n",
        "\n",
        "  return group_range_dates"
      ],
      "execution_count": null,
      "outputs": []
    },
    {
      "cell_type": "code",
      "metadata": {
        "id": "4DSxlnuKITVV"
      },
      "source": [
        "def calc_median_df(range_dates):\n",
        "  cals_medians = []\n",
        "\n",
        "  for classe_processual in range_dates:\n",
        "    for orgao_julgador in range_dates[classe_processual]:\n",
        "      calc_median = []\n",
        "\n",
        "      for cond_ranges in range_dates[classe_processual][orgao_julgador]:\n",
        "        condition_1 = datetime.datetime.strptime(cond_ranges[0], '%Y%m%d%H%M%S')\n",
        "        condition_2 = datetime.datetime.strptime(cond_ranges[1], '%Y%m%d%H%M%S')\n",
        "\n",
        "        result = condition_2 - condition_1\n",
        "\n",
        "        calc_median.append(int(result.days))\n",
        "      \n",
        "      if calc_median:\n",
        "        cals_medians.append(\n",
        "            (\n",
        "                classe_processual,\n",
        "                orgao_julgador,\n",
        "                int(statistics.median(calc_median)),\n",
        "                len(calc_median)\n",
        "            )\n",
        "        )\n",
        "  \n",
        "  return pd.DataFrame(cals_medians, columns=[\"CLASSE\", \"ORGÃO\", \"MÉDIA EM DIAS\", \"QUANTIDADE PROCESSOS\"])"
      ],
      "execution_count": null,
      "outputs": []
    },
    {
      "cell_type": "markdown",
      "metadata": {
        "id": "1SJo-GTpJ7-k"
      },
      "source": [
        "## Extração de Indicadores"
      ]
    },
    {
      "cell_type": "markdown",
      "metadata": {
        "id": "9aKGT3AuLHWH"
      },
      "source": [
        "#### Resgata todos os processos da collection"
      ]
    },
    {
      "cell_type": "code",
      "metadata": {
        "id": "YC4scfMGJ-Jc"
      },
      "source": [
        "process_data = get_process(db, coll)"
      ],
      "execution_count": null,
      "outputs": []
    },
    {
      "cell_type": "markdown",
      "metadata": {
        "id": "N4smgjZlLLaH"
      },
      "source": [
        "#### Agrupa por orgão e classe"
      ]
    },
    {
      "cell_type": "code",
      "metadata": {
        "id": "g0xN1_V5LF7E"
      },
      "source": [
        "group_process = split_process(process_data)"
      ],
      "execution_count": null,
      "outputs": []
    },
    {
      "cell_type": "markdown",
      "metadata": {
        "id": "8i18fl6fKxhe"
      },
      "source": [
        "#### 26 - Distribuição e 848 - Trânsito em julgado"
      ]
    },
    {
      "cell_type": "code",
      "metadata": {
        "id": "HcPIrlK_LTTR"
      },
      "source": [
        "range_dates_26_848 = get_range_dates(group_process, [26], [848])"
      ],
      "execution_count": null,
      "outputs": []
    },
    {
      "cell_type": "code",
      "metadata": {
        "id": "28o6ZJ5xLjIu"
      },
      "source": [
        "df = calc_median_df(range_dates_26_848)"
      ],
      "execution_count": null,
      "outputs": []
    },
    {
      "cell_type": "code",
      "metadata": {
        "id": "hqraRrnkLoSw",
        "outputId": "9b3a402c-5f35-4ca7-9d0b-a9b8626acac4",
        "colab": {
          "base_uri": "https://localhost:8080/",
          "height": 206
        }
      },
      "source": [
        "df.head()"
      ],
      "execution_count": null,
      "outputs": [
        {
          "output_type": "execute_result",
          "data": {
            "text/html": [
              "<div>\n",
              "<style scoped>\n",
              "    .dataframe tbody tr th:only-of-type {\n",
              "        vertical-align: middle;\n",
              "    }\n",
              "\n",
              "    .dataframe tbody tr th {\n",
              "        vertical-align: top;\n",
              "    }\n",
              "\n",
              "    .dataframe thead th {\n",
              "        text-align: right;\n",
              "    }\n",
              "</style>\n",
              "<table border=\"1\" class=\"dataframe\">\n",
              "  <thead>\n",
              "    <tr style=\"text-align: right;\">\n",
              "      <th></th>\n",
              "      <th>CLASSE</th>\n",
              "      <th>ORGÃO</th>\n",
              "      <th>MÉDIA EM DIAS</th>\n",
              "      <th>QUANTIDADE PROCESSOS</th>\n",
              "    </tr>\n",
              "  </thead>\n",
              "  <tbody>\n",
              "    <tr>\n",
              "      <th>0</th>\n",
              "      <td>1116</td>\n",
              "      <td>10770</td>\n",
              "      <td>1670</td>\n",
              "      <td>4</td>\n",
              "    </tr>\n",
              "    <tr>\n",
              "      <th>1</th>\n",
              "      <td>1116</td>\n",
              "      <td>9444</td>\n",
              "      <td>17099</td>\n",
              "      <td>3</td>\n",
              "    </tr>\n",
              "    <tr>\n",
              "      <th>2</th>\n",
              "      <td>1116</td>\n",
              "      <td>9363</td>\n",
              "      <td>23171</td>\n",
              "      <td>4</td>\n",
              "    </tr>\n",
              "    <tr>\n",
              "      <th>3</th>\n",
              "      <td>1116</td>\n",
              "      <td>9824</td>\n",
              "      <td>16912</td>\n",
              "      <td>1</td>\n",
              "    </tr>\n",
              "    <tr>\n",
              "      <th>4</th>\n",
              "      <td>1116</td>\n",
              "      <td>9644</td>\n",
              "      <td>3548</td>\n",
              "      <td>1</td>\n",
              "    </tr>\n",
              "  </tbody>\n",
              "</table>\n",
              "</div>"
            ],
            "text/plain": [
              "   CLASSE  ORGÃO  MÉDIA EM DIAS  QUANTIDADE PROCESSOS\n",
              "0    1116  10770           1670                     4\n",
              "1    1116   9444          17099                     3\n",
              "2    1116   9363          23171                     4\n",
              "3    1116   9824          16912                     1\n",
              "4    1116   9644           3548                     1"
            ]
          },
          "metadata": {
            "tags": []
          },
          "execution_count": 25
        }
      ]
    },
    {
      "cell_type": "code",
      "metadata": {
        "id": "1eGbpKL4J2cp"
      },
      "source": [
        "df.to_csv(\"./indicadores_distribuicao_transito_julgado.csv\")"
      ],
      "execution_count": null,
      "outputs": []
    },
    {
      "cell_type": "markdown",
      "metadata": {
        "id": "JCQdQjieMXLg"
      },
      "source": [
        "#### 26 - Distribuição e Primeiro impulso do processo"
      ]
    },
    {
      "cell_type": "code",
      "metadata": {
        "id": "LsMZjAKqMckq"
      },
      "source": [
        "cond_1 = [26]\n",
        "cond_2 = [\n",
        "          11010, # - Mero Expediente\n",
        "          3, # - Decisão\n",
        "          11009, # - Despacho\n",
        "          1, # - Magistrado\n",
        "          1013, # - Determinação\n",
        "          12164, # - Outras Decisões\n",
        "          11383, # - Ato Ordinatório\n",
        "          12265 # - Expedida/certificada\n",
        "]"
      ],
      "execution_count": null,
      "outputs": []
    },
    {
      "cell_type": "code",
      "metadata": {
        "id": "l1rH62fiMutR"
      },
      "source": [
        "range_dates_26_ns = get_range_dates(group_process, cond_1, cond_2)"
      ],
      "execution_count": null,
      "outputs": []
    },
    {
      "cell_type": "code",
      "metadata": {
        "id": "bCQ0QXqTM2lr"
      },
      "source": [
        "df = calc_median_df(range_dates_26_ns)"
      ],
      "execution_count": null,
      "outputs": []
    },
    {
      "cell_type": "code",
      "metadata": {
        "id": "_PSejz10M66c",
        "outputId": "4aa897aa-2809-401c-9fa9-12926534a706",
        "colab": {
          "base_uri": "https://localhost:8080/",
          "height": 206
        }
      },
      "source": [
        "df.head()"
      ],
      "execution_count": null,
      "outputs": [
        {
          "output_type": "execute_result",
          "data": {
            "text/html": [
              "<div>\n",
              "<style scoped>\n",
              "    .dataframe tbody tr th:only-of-type {\n",
              "        vertical-align: middle;\n",
              "    }\n",
              "\n",
              "    .dataframe tbody tr th {\n",
              "        vertical-align: top;\n",
              "    }\n",
              "\n",
              "    .dataframe thead th {\n",
              "        text-align: right;\n",
              "    }\n",
              "</style>\n",
              "<table border=\"1\" class=\"dataframe\">\n",
              "  <thead>\n",
              "    <tr style=\"text-align: right;\">\n",
              "      <th></th>\n",
              "      <th>CLASSE</th>\n",
              "      <th>ORGÃO</th>\n",
              "      <th>MÉDIA EM DIAS</th>\n",
              "      <th>QUANTIDADE PROCESSOS</th>\n",
              "    </tr>\n",
              "  </thead>\n",
              "  <tbody>\n",
              "    <tr>\n",
              "      <th>0</th>\n",
              "      <td>1116</td>\n",
              "      <td>10770</td>\n",
              "      <td>400</td>\n",
              "      <td>17</td>\n",
              "    </tr>\n",
              "    <tr>\n",
              "      <th>1</th>\n",
              "      <td>1116</td>\n",
              "      <td>9444</td>\n",
              "      <td>16723</td>\n",
              "      <td>3</td>\n",
              "    </tr>\n",
              "    <tr>\n",
              "      <th>2</th>\n",
              "      <td>1116</td>\n",
              "      <td>9304</td>\n",
              "      <td>17</td>\n",
              "      <td>2</td>\n",
              "    </tr>\n",
              "    <tr>\n",
              "      <th>3</th>\n",
              "      <td>1116</td>\n",
              "      <td>10212</td>\n",
              "      <td>111</td>\n",
              "      <td>102</td>\n",
              "    </tr>\n",
              "    <tr>\n",
              "      <th>4</th>\n",
              "      <td>1116</td>\n",
              "      <td>10355</td>\n",
              "      <td>1</td>\n",
              "      <td>56</td>\n",
              "    </tr>\n",
              "  </tbody>\n",
              "</table>\n",
              "</div>"
            ],
            "text/plain": [
              "   CLASSE  ORGÃO  MÉDIA EM DIAS  QUANTIDADE PROCESSOS\n",
              "0    1116  10770            400                    17\n",
              "1    1116   9444          16723                     3\n",
              "2    1116   9304             17                     2\n",
              "3    1116  10212            111                   102\n",
              "4    1116  10355              1                    56"
            ]
          },
          "metadata": {
            "tags": []
          },
          "execution_count": 30
        }
      ]
    },
    {
      "cell_type": "code",
      "metadata": {
        "id": "OPbJP3BvM7mn"
      },
      "source": [
        "df.to_csv(\"./indicador_distribuição_primeiro_impulso.csv\")"
      ],
      "execution_count": null,
      "outputs": []
    },
    {
      "cell_type": "code",
      "metadata": {
        "id": "ERTw0Vz7wcyj"
      },
      "source": [
        "df.to_sql(con=engine, name='indicador_1', if_exists='replace')"
      ],
      "execution_count": null,
      "outputs": []
    },
    {
      "cell_type": "markdown",
      "metadata": {
        "id": "RTSdwGLoNHeo"
      },
      "source": [
        "#### Tempo médio entre a distribuição e o envio para concluso"
      ]
    },
    {
      "cell_type": "code",
      "metadata": {
        "id": "9D5sz2fjNE57"
      },
      "source": [
        "cond_1 = [26]\n",
        "cond_2 = [\n",
        "          51 # Conclusão\n",
        "]"
      ],
      "execution_count": null,
      "outputs": []
    },
    {
      "cell_type": "code",
      "metadata": {
        "id": "aZxOvrqPNQp8"
      },
      "source": [
        "range_dates_26_ns = get_range_dates(group_process, cond_1, cond_2)"
      ],
      "execution_count": null,
      "outputs": []
    },
    {
      "cell_type": "code",
      "metadata": {
        "id": "_T2hnbkQNSP1"
      },
      "source": [
        "df = calc_median_df(range_dates_26_ns)"
      ],
      "execution_count": null,
      "outputs": []
    },
    {
      "cell_type": "code",
      "metadata": {
        "id": "G1yFUvswNTuC",
        "outputId": "e64a6b1c-f417-4202-c259-4269e17e68b3",
        "colab": {
          "base_uri": "https://localhost:8080/",
          "height": 206
        }
      },
      "source": [
        "df.head()"
      ],
      "execution_count": null,
      "outputs": [
        {
          "output_type": "execute_result",
          "data": {
            "text/html": [
              "<div>\n",
              "<style scoped>\n",
              "    .dataframe tbody tr th:only-of-type {\n",
              "        vertical-align: middle;\n",
              "    }\n",
              "\n",
              "    .dataframe tbody tr th {\n",
              "        vertical-align: top;\n",
              "    }\n",
              "\n",
              "    .dataframe thead th {\n",
              "        text-align: right;\n",
              "    }\n",
              "</style>\n",
              "<table border=\"1\" class=\"dataframe\">\n",
              "  <thead>\n",
              "    <tr style=\"text-align: right;\">\n",
              "      <th></th>\n",
              "      <th>CLASSE</th>\n",
              "      <th>ORGÃO</th>\n",
              "      <th>MÉDIA EM DIAS</th>\n",
              "      <th>QUANTIDADE PROCESSOS</th>\n",
              "    </tr>\n",
              "  </thead>\n",
              "  <tbody>\n",
              "    <tr>\n",
              "      <th>0</th>\n",
              "      <td>1116</td>\n",
              "      <td>10770</td>\n",
              "      <td>1121</td>\n",
              "      <td>17</td>\n",
              "    </tr>\n",
              "    <tr>\n",
              "      <th>1</th>\n",
              "      <td>1116</td>\n",
              "      <td>9304</td>\n",
              "      <td>15</td>\n",
              "      <td>2</td>\n",
              "    </tr>\n",
              "    <tr>\n",
              "      <th>2</th>\n",
              "      <td>1116</td>\n",
              "      <td>10212</td>\n",
              "      <td>98</td>\n",
              "      <td>102</td>\n",
              "    </tr>\n",
              "    <tr>\n",
              "      <th>3</th>\n",
              "      <td>1116</td>\n",
              "      <td>9925</td>\n",
              "      <td>17237</td>\n",
              "      <td>3</td>\n",
              "    </tr>\n",
              "    <tr>\n",
              "      <th>4</th>\n",
              "      <td>1116</td>\n",
              "      <td>10355</td>\n",
              "      <td>1</td>\n",
              "      <td>56</td>\n",
              "    </tr>\n",
              "  </tbody>\n",
              "</table>\n",
              "</div>"
            ],
            "text/plain": [
              "   CLASSE  ORGÃO  MÉDIA EM DIAS  QUANTIDADE PROCESSOS\n",
              "0    1116  10770           1121                    17\n",
              "1    1116   9304             15                     2\n",
              "2    1116  10212             98                   102\n",
              "3    1116   9925          17237                     3\n",
              "4    1116  10355              1                    56"
            ]
          },
          "metadata": {
            "tags": []
          },
          "execution_count": 36
        }
      ]
    },
    {
      "cell_type": "code",
      "metadata": {
        "id": "jdvdDgWaNUUy"
      },
      "source": [
        "df.to_csv(\"indicador_distribuição_envio_para_concluso.csv\")"
      ],
      "execution_count": null,
      "outputs": []
    },
    {
      "cell_type": "code",
      "metadata": {
        "id": "gpWBHC16wjgV"
      },
      "source": [
        "df.to_sql(con=engine, name='indicador_2', if_exists='replace')"
      ],
      "execution_count": null,
      "outputs": []
    },
    {
      "cell_type": "markdown",
      "metadata": {
        "id": "FJdEmh55NjDL"
      },
      "source": [
        "#### Tempo médio entre a distribuição e a primeira audiência"
      ]
    },
    {
      "cell_type": "code",
      "metadata": {
        "id": "LeulQld0NmEt"
      },
      "source": [
        "cond_1 = [26]\n",
        "cond_2 = [\n",
        "          970 # Conclusão\n",
        "]"
      ],
      "execution_count": null,
      "outputs": []
    },
    {
      "cell_type": "code",
      "metadata": {
        "id": "1j8Mx0J1NpD3"
      },
      "source": [
        "range_dates_26_ns = get_range_dates(group_process, cond_1, cond_2)"
      ],
      "execution_count": null,
      "outputs": []
    },
    {
      "cell_type": "code",
      "metadata": {
        "id": "rBXKshetNqkx"
      },
      "source": [
        "df = calc_median_df(range_dates_26_ns)"
      ],
      "execution_count": null,
      "outputs": []
    },
    {
      "cell_type": "code",
      "metadata": {
        "id": "-19eggixNri_",
        "outputId": "4c1d01a7-a554-4735-eeb7-a52f86ef48a5",
        "colab": {
          "base_uri": "https://localhost:8080/",
          "height": 206
        }
      },
      "source": [
        "df.head()"
      ],
      "execution_count": null,
      "outputs": [
        {
          "output_type": "execute_result",
          "data": {
            "text/html": [
              "<div>\n",
              "<style scoped>\n",
              "    .dataframe tbody tr th:only-of-type {\n",
              "        vertical-align: middle;\n",
              "    }\n",
              "\n",
              "    .dataframe tbody tr th {\n",
              "        vertical-align: top;\n",
              "    }\n",
              "\n",
              "    .dataframe thead th {\n",
              "        text-align: right;\n",
              "    }\n",
              "</style>\n",
              "<table border=\"1\" class=\"dataframe\">\n",
              "  <thead>\n",
              "    <tr style=\"text-align: right;\">\n",
              "      <th></th>\n",
              "      <th>CLASSE</th>\n",
              "      <th>ORGÃO</th>\n",
              "      <th>MÉDIA EM DIAS</th>\n",
              "      <th>QUANTIDADE PROCESSOS</th>\n",
              "    </tr>\n",
              "  </thead>\n",
              "  <tbody>\n",
              "    <tr>\n",
              "      <th>0</th>\n",
              "      <td>1116</td>\n",
              "      <td>9428</td>\n",
              "      <td>26</td>\n",
              "      <td>5</td>\n",
              "    </tr>\n",
              "    <tr>\n",
              "      <th>1</th>\n",
              "      <td>159</td>\n",
              "      <td>17582</td>\n",
              "      <td>1394</td>\n",
              "      <td>2</td>\n",
              "    </tr>\n",
              "    <tr>\n",
              "      <th>2</th>\n",
              "      <td>159</td>\n",
              "      <td>10489</td>\n",
              "      <td>1992</td>\n",
              "      <td>1</td>\n",
              "    </tr>\n",
              "    <tr>\n",
              "      <th>3</th>\n",
              "      <td>159</td>\n",
              "      <td>18301</td>\n",
              "      <td>2737</td>\n",
              "      <td>1</td>\n",
              "    </tr>\n",
              "    <tr>\n",
              "      <th>4</th>\n",
              "      <td>159</td>\n",
              "      <td>10439</td>\n",
              "      <td>515</td>\n",
              "      <td>1</td>\n",
              "    </tr>\n",
              "  </tbody>\n",
              "</table>\n",
              "</div>"
            ],
            "text/plain": [
              "   CLASSE  ORGÃO  MÉDIA EM DIAS  QUANTIDADE PROCESSOS\n",
              "0    1116   9428             26                     5\n",
              "1     159  17582           1394                     2\n",
              "2     159  10489           1992                     1\n",
              "3     159  18301           2737                     1\n",
              "4     159  10439            515                     1"
            ]
          },
          "metadata": {
            "tags": []
          },
          "execution_count": 42
        }
      ]
    },
    {
      "cell_type": "code",
      "metadata": {
        "id": "ORPSRu7ANsJA"
      },
      "source": [
        "df.to_csv(\"indicador_distribuição_primeira_audiencia.csv\")"
      ],
      "execution_count": null,
      "outputs": []
    },
    {
      "cell_type": "code",
      "metadata": {
        "id": "8GgQx37EwmWI"
      },
      "source": [
        "df.to_sql(con=engine, name='indicador_3', if_exists='replace')"
      ],
      "execution_count": null,
      "outputs": []
    },
    {
      "cell_type": "markdown",
      "metadata": {
        "id": "SfcipzzCN2Ot"
      },
      "source": [
        "#### Tempo médio entre a distribuição e a primeira ação do magistrado"
      ]
    },
    {
      "cell_type": "code",
      "metadata": {
        "id": "8pwa9fl3N3ds"
      },
      "source": [
        "cond_1 = [26]\n",
        "cond_2 = [\n",
        "          11010, # - Mero Expediente\n",
        "          3, # - Decisão\n",
        "          11009, # - Despacho\n",
        "          1, # - Magistrado\n",
        "          1013, # - Determinação\n",
        "          12164 # - Outras Decisões\n",
        "]"
      ],
      "execution_count": null,
      "outputs": []
    },
    {
      "cell_type": "code",
      "metadata": {
        "id": "kgaXpNC3OC__"
      },
      "source": [
        "range_dates_26_ns = get_range_dates(group_process, cond_1, cond_2)"
      ],
      "execution_count": null,
      "outputs": []
    },
    {
      "cell_type": "code",
      "metadata": {
        "id": "YTqqgRFNOFgV"
      },
      "source": [
        "df = calc_median_df(range_dates_26_ns)"
      ],
      "execution_count": null,
      "outputs": []
    },
    {
      "cell_type": "code",
      "metadata": {
        "id": "bLR3GiiiOGtX",
        "outputId": "e5b6f853-d3e1-4701-ea61-5ace14764282",
        "colab": {
          "base_uri": "https://localhost:8080/",
          "height": 206
        }
      },
      "source": [
        "df.head()"
      ],
      "execution_count": null,
      "outputs": [
        {
          "output_type": "execute_result",
          "data": {
            "text/html": [
              "<div>\n",
              "<style scoped>\n",
              "    .dataframe tbody tr th:only-of-type {\n",
              "        vertical-align: middle;\n",
              "    }\n",
              "\n",
              "    .dataframe tbody tr th {\n",
              "        vertical-align: top;\n",
              "    }\n",
              "\n",
              "    .dataframe thead th {\n",
              "        text-align: right;\n",
              "    }\n",
              "</style>\n",
              "<table border=\"1\" class=\"dataframe\">\n",
              "  <thead>\n",
              "    <tr style=\"text-align: right;\">\n",
              "      <th></th>\n",
              "      <th>CLASSE</th>\n",
              "      <th>ORGÃO</th>\n",
              "      <th>MÉDIA EM DIAS</th>\n",
              "      <th>QUANTIDADE PROCESSOS</th>\n",
              "    </tr>\n",
              "  </thead>\n",
              "  <tbody>\n",
              "    <tr>\n",
              "      <th>0</th>\n",
              "      <td>1116</td>\n",
              "      <td>10770</td>\n",
              "      <td>400</td>\n",
              "      <td>17</td>\n",
              "    </tr>\n",
              "    <tr>\n",
              "      <th>1</th>\n",
              "      <td>1116</td>\n",
              "      <td>9444</td>\n",
              "      <td>16723</td>\n",
              "      <td>3</td>\n",
              "    </tr>\n",
              "    <tr>\n",
              "      <th>2</th>\n",
              "      <td>1116</td>\n",
              "      <td>9304</td>\n",
              "      <td>17</td>\n",
              "      <td>2</td>\n",
              "    </tr>\n",
              "    <tr>\n",
              "      <th>3</th>\n",
              "      <td>1116</td>\n",
              "      <td>10212</td>\n",
              "      <td>111</td>\n",
              "      <td>102</td>\n",
              "    </tr>\n",
              "    <tr>\n",
              "      <th>4</th>\n",
              "      <td>1116</td>\n",
              "      <td>10355</td>\n",
              "      <td>1</td>\n",
              "      <td>56</td>\n",
              "    </tr>\n",
              "  </tbody>\n",
              "</table>\n",
              "</div>"
            ],
            "text/plain": [
              "   CLASSE  ORGÃO  MÉDIA EM DIAS  QUANTIDADE PROCESSOS\n",
              "0    1116  10770            400                    17\n",
              "1    1116   9444          16723                     3\n",
              "2    1116   9304             17                     2\n",
              "3    1116  10212            111                   102\n",
              "4    1116  10355              1                    56"
            ]
          },
          "metadata": {
            "tags": []
          },
          "execution_count": 48
        }
      ]
    },
    {
      "cell_type": "code",
      "metadata": {
        "id": "_dioTap6OIHK"
      },
      "source": [
        "df.to_csv(\"./indicador_distribuicao_primeira_acao_do_magistrado.csv\")"
      ],
      "execution_count": null,
      "outputs": []
    },
    {
      "cell_type": "code",
      "metadata": {
        "id": "CmV469uGQfkT"
      },
      "source": [
        "df.to_sql(con=engine, name='indicador_4', if_exists='replace')"
      ],
      "execution_count": null,
      "outputs": []
    }
  ]
}