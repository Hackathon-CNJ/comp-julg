{
 "cells": [
  {
   "cell_type": "code",
   "execution_count": 1,
   "metadata": {},
   "outputs": [
    {
     "name": "stderr",
     "output_type": "stream",
     "text": [
      "/home/johni/.pyenv/versions/3.7.4/envs/iara-ws-cnmp/lib/python3.7/site-packages/pandas/compat/__init__.py:117: UserWarning: Could not import the lzma module. Your installed Python is incomplete. Attempting to use lzma compression will result in a RuntimeError.\n",
      "  warnings.warn(msg)\n"
     ]
    }
   ],
   "source": [
    "import pandas as pd\n",
    "\n",
    "import numpy as np\n",
    "\n",
    "import pymongo\n",
    "\n",
    "from slugify import slugify"
   ]
  },
  {
   "cell_type": "code",
   "execution_count": 2,
   "metadata": {},
   "outputs": [],
   "source": [
    "MONGODB_URL = \"mongodb://35.237.232.73:27017/\"\n",
    "\n",
    "client = pymongo.MongoClient(MONGODB_URL)"
   ]
  },
  {
   "cell_type": "code",
   "execution_count": 3,
   "metadata": {},
   "outputs": [
    {
     "name": "stdout",
     "output_type": "stream",
     "text": [
      "Total de seventias 39099\n"
     ]
    }
   ],
   "source": [
    "DATABASE_NAME = \"dados_diversos\"\n",
    "\n",
    "COLLECTION_NAME = \"mpm_serventias\"\n",
    "\n",
    "serventias = list(client[DATABASE_NAME][COLLECTION_NAME].find())\n",
    "\n",
    "print(f\"Total de seventias {len(serventias)}\")"
   ]
  },
  {
   "cell_type": "code",
   "execution_count": 4,
   "metadata": {},
   "outputs": [],
   "source": [
    "class Base:\n",
    "    def __init__(self, filename, csv=False):\n",
    "        if csv:\n",
    "            self.df = pd.read_csv(filename, sep=\";\")\n",
    "        else:\n",
    "            self.df = pd.read_excel(filename, sep=\";\")\n",
    "\n",
    "    @property\n",
    "    def shape(self):\n",
    "        return self.df.shape\n",
    "    \n",
    "    def head(self, n=5):\n",
    "        return self.df.head(n)"
   ]
  },
  {
   "cell_type": "markdown",
   "metadata": {},
   "source": [
    "# Entrância\n"
   ]
  },
  {
   "cell_type": "code",
   "execution_count": 5,
   "metadata": {},
   "outputs": [],
   "source": [
    "class Entrancia(Base):\n",
    "    def __init__(self):\n",
    "        Base.__init__(self, \"mpm_serventias.csv\", True)\n",
    "    \n",
    "    def processar(self, documents):\n",
    "        for documento in documents:\n",
    "            seq_orgao = int(documento[\"SEQ_ORGAO\"])\n",
    "\n",
    "            entrancia = self._calcular(seq_orgao)\n",
    "\n",
    "            self._salvar(documento, entrancia)\n",
    "    \n",
    "    def _calcular(self, seq_orgao): \n",
    "        df_f_orgao = self.df[self.df[\"SEQ_ORGAO\"] == seq_orgao]\n",
    "\n",
    "        if len(df_f_orgao) == 0:\n",
    "            print(f\"Orgão {seq_orgao} não encontrado!\")\n",
    "            return None\n",
    "\n",
    "        seq_orgao_pai = df_f_orgao['SEQ_ORGAO_PAI'].values[0]\n",
    "\n",
    "        \"\"\"\n",
    "        Filtra as varas que tem o mesmo orgão pai\n",
    "        \"\"\"\n",
    "        df_f_orgao_pai = self.df[self.df[\"SEQ_ORGAO_PAI\"] == seq_orgao_pai]\n",
    "\n",
    "        if len(df_f_orgao_pai) == 0:\n",
    "            print(f\"Orgão pai {seq_orgao_pai} não encontrado para o orgão {seq_orgao}!\")\n",
    "            return None\n",
    "\n",
    "        total = df_f_orgao_pai[\"SEQ_ORGAO_PAI\"].notnull().count()\n",
    "\n",
    "        if total == None:\n",
    "            print(f\"Orgao {seq_orgao} não possui orgão pai!\")\n",
    "            return None\n",
    "\n",
    "        if total == 1:\n",
    "            return 1\n",
    "        elif total in [2, 3, 4]:\n",
    "            return 2\n",
    "        else:\n",
    "            return 3\n",
    "    \n",
    "    def _salvar(self, documento, entrancia):\n",
    "\n",
    "        collection = client[DATABASE_NAME][COLLECTION_NAME]\n",
    "\n",
    "        _id =  documento[\"_id\"]\n",
    "\n",
    "        collection.update_one(\n",
    "            {\n",
    "                \"_id\": _id \n",
    "            }, \n",
    "            {\n",
    "                '$set': { 'TIP_ENTRANCIA': entrancia }\n",
    "            }\n",
    "        )"
   ]
  },
  {
   "cell_type": "code",
   "execution_count": 6,
   "metadata": {},
   "outputs": [
    {
     "name": "stderr",
     "output_type": "stream",
     "text": [
      "/home/johni/.pyenv/versions/3.7.4/envs/iara-ws-cnmp/lib/python3.7/site-packages/IPython/core/interactiveshell.py:3331: DtypeWarning: Columns (12,14) have mixed types.Specify dtype option on import or set low_memory=False.\n",
      "  exec(code_obj, self.user_global_ns, self.user_ns)\n"
     ]
    },
    {
     "data": {
      "text/plain": [
       "(39100, 17)"
      ]
     },
     "execution_count": 6,
     "metadata": {},
     "output_type": "execute_result"
    }
   ],
   "source": [
    "et = Entrancia()\n",
    "et.shape"
   ]
  },
  {
   "cell_type": "code",
   "execution_count": 7,
   "metadata": {
    "scrolled": true
   },
   "outputs": [
    {
     "data": {
      "text/html": [
       "<div>\n",
       "<style scoped>\n",
       "    .dataframe tbody tr th:only-of-type {\n",
       "        vertical-align: middle;\n",
       "    }\n",
       "\n",
       "    .dataframe tbody tr th {\n",
       "        vertical-align: top;\n",
       "    }\n",
       "\n",
       "    .dataframe thead th {\n",
       "        text-align: right;\n",
       "    }\n",
       "</style>\n",
       "<table border=\"1\" class=\"dataframe\">\n",
       "  <thead>\n",
       "    <tr style=\"text-align: right;\">\n",
       "      <th></th>\n",
       "      <th>SEQ_ORGAO</th>\n",
       "      <th>NOMEDAVARA</th>\n",
       "      <th>SEQ_ORGAO_PAI</th>\n",
       "      <th>TIP_ORGAO</th>\n",
       "      <th>SEQ_CIDADE</th>\n",
       "      <th>DSC_CIDADE</th>\n",
       "      <th>SIG_UF</th>\n",
       "      <th>COD_IBGE</th>\n",
       "      <th>DSC_TIP_ORGAO</th>\n",
       "      <th>TIP_ESFERA_JUSTICA</th>\n",
       "      <th>INT_ORDEM_ORGAO</th>\n",
       "      <th>DSC_ORGAO</th>\n",
       "      <th>DSC_DENOM_SERVENTIA_JUDICIAL</th>\n",
       "      <th>endereco_serventia</th>\n",
       "      <th>cep_serventia</th>\n",
       "      <th>LATITUDE</th>\n",
       "      <th>LONGITUDE</th>\n",
       "    </tr>\n",
       "  </thead>\n",
       "  <tbody>\n",
       "    <tr>\n",
       "      <th>0</th>\n",
       "      <td>1</td>\n",
       "      <td>Conselho Nacional de Justiça</td>\n",
       "      <td>NaN</td>\n",
       "      <td>CNJ</td>\n",
       "      <td>743.0</td>\n",
       "      <td>BRASÍLIA</td>\n",
       "      <td>DF</td>\n",
       "      <td>5300108.0</td>\n",
       "      <td>Conselho Nacional de Justiça</td>\n",
       "      <td>S</td>\n",
       "      <td>0.0</td>\n",
       "      <td>Conselho Nacional de Justiça</td>\n",
       "      <td>NaN</td>\n",
       "      <td>NaN</td>\n",
       "      <td>NaN</td>\n",
       "      <td>NaN</td>\n",
       "      <td>NaN</td>\n",
       "    </tr>\n",
       "    <tr>\n",
       "      <th>1</th>\n",
       "      <td>2</td>\n",
       "      <td>Conselho da Justiça Federal</td>\n",
       "      <td>1.0</td>\n",
       "      <td>CONSF</td>\n",
       "      <td>743.0</td>\n",
       "      <td>BRASÍLIA</td>\n",
       "      <td>DF</td>\n",
       "      <td>5300108.0</td>\n",
       "      <td>Conselho da Justiça Federal</td>\n",
       "      <td>F</td>\n",
       "      <td>0.0</td>\n",
       "      <td>Conselho da Justiça Federal</td>\n",
       "      <td>NaN</td>\n",
       "      <td>NaN</td>\n",
       "      <td>NaN</td>\n",
       "      <td>NaN</td>\n",
       "      <td>NaN</td>\n",
       "    </tr>\n",
       "    <tr>\n",
       "      <th>2</th>\n",
       "      <td>3</td>\n",
       "      <td>Tribunal Regional Federal da 1ª Região</td>\n",
       "      <td>2.0</td>\n",
       "      <td>TRIBF</td>\n",
       "      <td>743.0</td>\n",
       "      <td>BRASÍLIA</td>\n",
       "      <td>DF</td>\n",
       "      <td>5300108.0</td>\n",
       "      <td>Tribunal Regional Federal</td>\n",
       "      <td>F</td>\n",
       "      <td>NaN</td>\n",
       "      <td>Tribunal Regional Federal da 1ª Região</td>\n",
       "      <td>NaN</td>\n",
       "      <td>NaN</td>\n",
       "      <td>NaN</td>\n",
       "      <td>NaN</td>\n",
       "      <td>NaN</td>\n",
       "    </tr>\n",
       "    <tr>\n",
       "      <th>3</th>\n",
       "      <td>4</td>\n",
       "      <td>Tribunal Regional Federal da 2ª Região</td>\n",
       "      <td>2.0</td>\n",
       "      <td>TRIBF</td>\n",
       "      <td>4155.0</td>\n",
       "      <td>RIO DE JANEIRO</td>\n",
       "      <td>RJ</td>\n",
       "      <td>3304557.0</td>\n",
       "      <td>Tribunal Regional Federal</td>\n",
       "      <td>F</td>\n",
       "      <td>NaN</td>\n",
       "      <td>Tribunal Regional Federal da 2ª Região</td>\n",
       "      <td>NaN</td>\n",
       "      <td>NaN</td>\n",
       "      <td>NaN</td>\n",
       "      <td>NaN</td>\n",
       "      <td>NaN</td>\n",
       "    </tr>\n",
       "    <tr>\n",
       "      <th>4</th>\n",
       "      <td>5</td>\n",
       "      <td>Tribunal Regional Federal da 3ª Região</td>\n",
       "      <td>2.0</td>\n",
       "      <td>TRIBF</td>\n",
       "      <td>4795.0</td>\n",
       "      <td>SAO PAULO</td>\n",
       "      <td>SP</td>\n",
       "      <td>3550308.0</td>\n",
       "      <td>Tribunal Regional Federal</td>\n",
       "      <td>F</td>\n",
       "      <td>NaN</td>\n",
       "      <td>Tribunal Regional Federal da 3ª Região</td>\n",
       "      <td>NaN</td>\n",
       "      <td>NaN</td>\n",
       "      <td>NaN</td>\n",
       "      <td>1050182067</td>\n",
       "      <td>607162856</td>\n",
       "    </tr>\n",
       "  </tbody>\n",
       "</table>\n",
       "</div>"
      ],
      "text/plain": [
       "   SEQ_ORGAO                              NOMEDAVARA  SEQ_ORGAO_PAI TIP_ORGAO  \\\n",
       "0          1            Conselho Nacional de Justiça            NaN       CNJ   \n",
       "1          2             Conselho da Justiça Federal            1.0     CONSF   \n",
       "2          3  Tribunal Regional Federal da 1ª Região            2.0     TRIBF   \n",
       "3          4  Tribunal Regional Federal da 2ª Região            2.0     TRIBF   \n",
       "4          5  Tribunal Regional Federal da 3ª Região            2.0     TRIBF   \n",
       "\n",
       "   SEQ_CIDADE      DSC_CIDADE SIG_UF   COD_IBGE                 DSC_TIP_ORGAO  \\\n",
       "0       743.0        BRASÍLIA     DF  5300108.0  Conselho Nacional de Justiça   \n",
       "1       743.0        BRASÍLIA     DF  5300108.0   Conselho da Justiça Federal   \n",
       "2       743.0        BRASÍLIA     DF  5300108.0     Tribunal Regional Federal   \n",
       "3      4155.0  RIO DE JANEIRO     RJ  3304557.0     Tribunal Regional Federal   \n",
       "4      4795.0       SAO PAULO     SP  3550308.0     Tribunal Regional Federal   \n",
       "\n",
       "  TIP_ESFERA_JUSTICA  INT_ORDEM_ORGAO                               DSC_ORGAO  \\\n",
       "0                  S              0.0            Conselho Nacional de Justiça   \n",
       "1                  F              0.0             Conselho da Justiça Federal   \n",
       "2                  F              NaN  Tribunal Regional Federal da 1ª Região   \n",
       "3                  F              NaN  Tribunal Regional Federal da 2ª Região   \n",
       "4                  F              NaN  Tribunal Regional Federal da 3ª Região   \n",
       "\n",
       "  DSC_DENOM_SERVENTIA_JUDICIAL endereco_serventia cep_serventia    LATITUDE  \\\n",
       "0                          NaN                NaN           NaN         NaN   \n",
       "1                          NaN                NaN           NaN         NaN   \n",
       "2                          NaN                NaN           NaN         NaN   \n",
       "3                          NaN                NaN           NaN         NaN   \n",
       "4                          NaN                NaN           NaN  1050182067   \n",
       "\n",
       "   LONGITUDE  \n",
       "0        NaN  \n",
       "1        NaN  \n",
       "2        NaN  \n",
       "3        NaN  \n",
       "4  607162856  "
      ]
     },
     "execution_count": 7,
     "metadata": {},
     "output_type": "execute_result"
    }
   ],
   "source": [
    "et.head()"
   ]
  },
  {
   "cell_type": "code",
   "execution_count": null,
   "metadata": {},
   "outputs": [],
   "source": [
    "et.processar(serventias)"
   ]
  },
  {
   "cell_type": "markdown",
   "metadata": {},
   "source": [
    "# Força de Trabalho"
   ]
  },
  {
   "cell_type": "code",
   "execution_count": null,
   "metadata": {},
   "outputs": [],
   "source": [
    "class ForcaDeTrabalho(Base):\n",
    "    def __init__(self):\n",
    "        Base.__init__(self, \"dados-pessoal-TJSP.xlsx\")\n",
    "        \n",
    "    def processar(self, documentos):\n",
    "        for documento in documentos:\n",
    "            seq_orgao = int(documento[\"SEQ_ORGAO\"])\n",
    "            \n",
    "            forca_trabalho = self._buscar(seq_orgao)\n",
    "            self._inseir(documento, forca_trabalho)\n",
    "\n",
    "    def _inseir(self, documento, forca_trabalho):\n",
    "        collection = client[DATABASE_NAME][COLLECTION_NAME]\n",
    "    \n",
    "        _id = documento[\"_id\"]\n",
    "\n",
    "        collection.update_one(\n",
    "            {\n",
    "                \"_id\": _id \n",
    "            },\n",
    "            {\n",
    "                \"$set\": { \n",
    "                    \"QTD_ESTAGIARIOS\": forca_trabalho[\"qtd_estagiarios\"],\n",
    "                    \"QTD_TERCERIADOS\": forca_trabalho[\"qtd_terceriados\"],\n",
    "                    \"QTD_CEDIDOS\": forca_trabalho[\"qtd_cedidos\"],\n",
    "                    \"QTD_COMISSIONADO\": forca_trabalho[\"qtd_comissionado\"],\n",
    "                    \"QTD_EFETIVOS\": forca_trabalho[\"qtd_efetivos\"],\n",
    "                    \n",
    "                }\n",
    "            }\n",
    "        )\n",
    "\n",
    "    def _buscar(self, seq_orgao):\n",
    "        forca_trabalho = {\n",
    "            \"qtd_estagiarios\": None,\n",
    "            \"qtd_terceriados\": None,\n",
    "            \"qtd_cedidos\": None,\n",
    "            \"qtd_comissionado\": None,\n",
    "            \"qtd_efetivos\": None,\n",
    "        }\n",
    "\n",
    "        df_f = self.df[self.df[\"seq_orgao\"] == seq_orgao]\n",
    "\n",
    "        if len(df_f) == 0:\n",
    "            return forca_trabalho\n",
    "\n",
    "        for _, row in df_f.iterrows():\n",
    "            \n",
    "            descricao = slugify(row[\"Descrição da variável\"])\n",
    "            quantidade = int(row[\"Qtd\"])\n",
    "            \n",
    "            if descricao == \"tfauxe-total-da-forca-de-trabalho-auxiliar-estagiarios\":\n",
    "                forca_trabalho[\"qtd_estagiarios\"] = quantidade \n",
    "                \n",
    "            if descricao == \"tfauxt-total-da-forca-de-trabalho-auxiliar-terceirizados\":\n",
    "                forca_trabalho[\"qtd_terceriados\"] = quantidade\n",
    "                \n",
    "            if descricao == \"tpefet-total-de-pessoal-do-quadro-efetivo\":\n",
    "                forca_trabalho[\"qtd_efetivos\"] = quantidade\n",
    "                \n",
    "            if descricao == \"tpi-total-de-pessoal-que-ingressou-por-cessao-ou-requisicao\":\n",
    "                forca_trabalho[\"qtd_cedidos\"] = quantidade\n",
    "                \n",
    "            if descricao == \"tpsv-total-de-pessoal-comissionado-sem-vinculo\":\n",
    "                forca_trabalho[\"qtd_comissionado\"] = quantidade\n",
    "            \n",
    "        return forca_trabalho"
   ]
  },
  {
   "cell_type": "code",
   "execution_count": null,
   "metadata": {},
   "outputs": [],
   "source": [
    "ft = ForcaDeTrabalho()\n",
    "ft.shape"
   ]
  },
  {
   "cell_type": "code",
   "execution_count": null,
   "metadata": {},
   "outputs": [],
   "source": [
    "ft.head()"
   ]
  },
  {
   "cell_type": "code",
   "execution_count": null,
   "metadata": {},
   "outputs": [],
   "source": [
    "ft.processar(serventias)"
   ]
  },
  {
   "cell_type": "markdown",
   "metadata": {},
   "source": [
    "# Pocessos Pendentes"
   ]
  },
  {
   "cell_type": "code",
   "execution_count": null,
   "metadata": {},
   "outputs": [],
   "source": [
    "class ProcessosPendentes(Base):\n",
    "    def __init__(self):\n",
    "        Base.__init__(self, \"casos-pendentes-TJSP.xlsx\")\n",
    "    \n",
    "    def processar(self, documentos):\n",
    "        for documento in documentos:\n",
    "            seq_orgao = int(documento[\"SEQ_ORGAO\"])\n",
    "\n",
    "            processos_pendentes = self._buscar(seq_orgao)\n",
    "            self._inseir(documento, processos_pendentes)\n",
    "        \n",
    "    def _inseir(self, documento, processos_pendentes):\n",
    "        collection = client[DATABASE_NAME][COLLECTION_NAME]\n",
    "\n",
    "        _id = documento[\"_id\"]\n",
    "\n",
    "        collection.update_one(\n",
    "            {\n",
    "                \"_id\": _id \n",
    "            },\n",
    "            {\n",
    "                '$set': { 'QTD_PROC_PENDENTES': processos_pendentes }\n",
    "            }\n",
    "        )\n",
    "\n",
    "    def _buscar(self, seq_orgao):\n",
    "        df_f = self.df[self.df[\"seq_orgao\"] == seq_orgao]\n",
    "\n",
    "        if len(df_f) != 1:\n",
    "            return None\n",
    "        \n",
    "        processos_pendentes = int(df_f['Qtd'].values[0])\n",
    "        \n",
    "        return processos_pendentes        "
   ]
  },
  {
   "cell_type": "code",
   "execution_count": null,
   "metadata": {},
   "outputs": [],
   "source": [
    "pp = ProcessosPendentes()\n",
    "pp.shape"
   ]
  },
  {
   "cell_type": "code",
   "execution_count": null,
   "metadata": {},
   "outputs": [],
   "source": [
    "pp.head()"
   ]
  },
  {
   "cell_type": "code",
   "execution_count": null,
   "metadata": {},
   "outputs": [],
   "source": [
    "pp.processar(serventias)"
   ]
  },
  {
   "cell_type": "code",
   "execution_count": null,
   "metadata": {},
   "outputs": [],
   "source": []
  }
 ],
 "metadata": {
  "kernelspec": {
   "display_name": "Python 3",
   "language": "python",
   "name": "python3"
  },
  "language_info": {
   "codemirror_mode": {
    "name": "ipython",
    "version": 3
   },
   "file_extension": ".py",
   "mimetype": "text/x-python",
   "name": "python",
   "nbconvert_exporter": "python",
   "pygments_lexer": "ipython3",
   "version": "3.7.4"
  }
 },
 "nbformat": 4,
 "nbformat_minor": 4
}
